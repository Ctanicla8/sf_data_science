{
  "nbformat": 4,
  "nbformat_minor": 0,
  "metadata": {
    "colab": {
      "provenance": [],
      "toc_visible": true,
      "authorship_tag": "ABX9TyPpc+OeMpJ0Y/9IFHj+Df+d",
      "include_colab_link": true
    },
    "kernelspec": {
      "name": "python3",
      "display_name": "Python 3"
    },
    "language_info": {
      "name": "python"
    }
  },
  "cells": [
    {
      "cell_type": "markdown",
      "metadata": {
        "id": "view-in-github",
        "colab_type": "text"
      },
      "source": [
        "<a href=\"https://colab.research.google.com/github/Ctanicla8/sf_data_science/blob/main/ModNumpy.ipynb\" target=\"_parent\"><img src=\"https://colab.research.google.com/assets/colab-badge.svg\" alt=\"Open In Colab\"/></a>"
      ]
    },
    {
      "cell_type": "code",
      "execution_count": 2,
      "metadata": {
        "id": "ru86GSQsZni6"
      },
      "outputs": [],
      "source": [
        "import numpy as np"
      ]
    },
    {
      "cell_type": "code",
      "source": [
        "nd_array = np.linspace(0, 6, 12, endpoint=False).reshape(3, 4)\n",
        "nd_array[2:4]\n",
        "nd_array[:2, 2]"
      ],
      "metadata": {
        "colab": {
          "base_uri": "https://localhost:8080/"
        },
        "id": "i4Y8DnNUxVts",
        "outputId": "5b24cca9-f76f-4a34-cbab-a609d0c66412"
      },
      "execution_count": null,
      "outputs": [
        {
          "output_type": "execute_result",
          "data": {
            "text/plain": [
              "array([1., 3.])"
            ]
          },
          "metadata": {},
          "execution_count": 86
        }
      ]
    },
    {
      "cell_type": "code",
      "source": [
        "mystery = np.array([[-13586,  15203,  28445, -27117,  -1781, -17182, -18049],\n",
        "       [ 25936, -30968,  -1297,  -4593,   6451,  15790,   7181],\n",
        "       [ 13348,  28049,  28655,  -6012,  21762,  25397,   8225],\n",
        "       [ 13240,   7994,  32592,  20149,  13754,  11795,   -564],\n",
        "       [-21725,  -8681,  30305,  22260, -17918,  12578,  29943],\n",
        "       [-16841, -25392, -17278,  11740,   5916,    -47, -32037]],\n",
        "      dtype=np.int16)"
      ],
      "metadata": {
        "id": "KUzscv13zWtr"
      },
      "execution_count": null,
      "outputs": []
    },
    {
      "cell_type": "code",
      "source": [
        "elem_5_3 = mystery[4, 2]\n",
        "print(elem_5_3)"
      ],
      "metadata": {
        "colab": {
          "base_uri": "https://localhost:8080/"
        },
        "id": "Xn7bIeayzgOB",
        "outputId": "c6b74f0b-03de-4a4e-8172-8d91778c5db3"
      },
      "execution_count": null,
      "outputs": [
        {
          "output_type": "stream",
          "name": "stdout",
          "text": [
            "30305\n"
          ]
        }
      ]
    },
    {
      "cell_type": "code",
      "source": [
        "mystery.shape"
      ],
      "metadata": {
        "colab": {
          "base_uri": "https://localhost:8080/"
        },
        "id": "N_Oy14_b0cGT",
        "outputId": "12289ef8-49ec-4706-a20c-84d43ffb291a"
      },
      "execution_count": null,
      "outputs": [
        {
          "output_type": "execute_result",
          "data": {
            "text/plain": [
              "(6, 7)"
            ]
          },
          "metadata": {},
          "execution_count": 18
        }
      ]
    },
    {
      "cell_type": "code",
      "source": [
        "last = mystery[5, 6]\n",
        "print(last)"
      ],
      "metadata": {
        "colab": {
          "base_uri": "https://localhost:8080/"
        },
        "id": "36lrmM5Jz6aC",
        "outputId": "2df159bc-fa0e-4da1-a68e-23f0a79a68e9"
      },
      "execution_count": null,
      "outputs": [
        {
          "output_type": "stream",
          "name": "stdout",
          "text": [
            "-32037\n"
          ]
        }
      ]
    },
    {
      "cell_type": "code",
      "source": [
        "line = mystery[3:4]\n",
        "line_4 = line[0]\n",
        "print(line_4)"
      ],
      "metadata": {
        "colab": {
          "base_uri": "https://localhost:8080/"
        },
        "id": "bJo1rAcP19vK",
        "outputId": "16d31255-304d-4000-fecd-25951d21586e"
      },
      "execution_count": null,
      "outputs": [
        {
          "output_type": "stream",
          "name": "stdout",
          "text": [
            "[13240  7994 32592 20149 13754 11795  -564]\n"
          ]
        }
      ]
    },
    {
      "cell_type": "code",
      "source": [
        "col = mystery[0:, 5:6]\n",
        "col_1 = col.transpose()\n",
        "col_2 = col_1[0]\n",
        "print(col_2)"
      ],
      "metadata": {
        "colab": {
          "base_uri": "https://localhost:8080/"
        },
        "id": "X8FWnlk52tsj",
        "outputId": "4afc529e-5cff-4d0c-e2f1-496137ed2120"
      },
      "execution_count": null,
      "outputs": [
        {
          "output_type": "stream",
          "name": "stdout",
          "text": [
            "[-17182  15790  25397  11795  12578    -47]\n"
          ]
        }
      ]
    },
    {
      "cell_type": "code",
      "source": [
        "part = mystery[1:4, 2:5]\n",
        "print(part)"
      ],
      "metadata": {
        "colab": {
          "base_uri": "https://localhost:8080/"
        },
        "id": "BzB9jn4N3raR",
        "outputId": "ea94d5e9-be5d-42c5-da16-17cefc14de86"
      },
      "execution_count": null,
      "outputs": [
        {
          "output_type": "stream",
          "name": "stdout",
          "text": [
            "[[-1297 -4593  6451]\n",
            " [28655 -6012 21762]\n",
            " [32592 20149 13754]]\n"
          ]
        }
      ]
    },
    {
      "cell_type": "code",
      "source": [
        "r = mystery[0:, 6:7]\n",
        "r = r[::-1]\n",
        "re = r.transpose()\n",
        "rev = re[0]\n",
        "print(rev)"
      ],
      "metadata": {
        "colab": {
          "base_uri": "https://localhost:8080/"
        },
        "id": "2ICcudft4ITr",
        "outputId": "084a7213-5a77-4f43-f6ba-4cf996b1dafb"
      },
      "execution_count": null,
      "outputs": [
        {
          "output_type": "stream",
          "name": "stdout",
          "text": [
            "[-32037  29943   -564   8225   7181 -18049]\n"
          ]
        }
      ]
    },
    {
      "cell_type": "code",
      "source": [
        "trans = mystery.transpose()\n",
        "print(trans)"
      ],
      "metadata": {
        "colab": {
          "base_uri": "https://localhost:8080/"
        },
        "id": "HmwGHJoH8KkG",
        "outputId": "c2832efb-974f-44b8-e175-b8810db8ac4e"
      },
      "execution_count": null,
      "outputs": [
        {
          "output_type": "stream",
          "name": "stdout",
          "text": [
            "[[-13586  25936  13348  13240 -21725 -16841]\n",
            " [ 15203 -30968  28049   7994  -8681 -25392]\n",
            " [ 28445  -1297  28655  32592  30305 -17278]\n",
            " [-27117  -4593  -6012  20149  22260  11740]\n",
            " [ -1781   6451  21762  13754 -17918   5916]\n",
            " [-17182  15790  25397  11795  12578    -47]\n",
            " [-18049   7181   8225   -564  29943 -32037]]\n"
          ]
        }
      ]
    },
    {
      "cell_type": "code",
      "source": [
        "arr = np.array([23,12,45,12,23,4,15,3])"
      ],
      "metadata": {
        "id": "_MCyjmt00J4x"
      },
      "execution_count": 3,
      "outputs": []
    },
    {
      "cell_type": "code",
      "source": [
        "arr_new = np.sort(arr)\n",
        "print(arr)\n",
        "print(arr_new)"
      ],
      "metadata": {
        "colab": {
          "base_uri": "https://localhost:8080/"
        },
        "id": "XHQKhm_z0OJt",
        "outputId": "6d44646b-b742-4464-8e48-bbd1050b6777"
      },
      "execution_count": 4,
      "outputs": [
        {
          "output_type": "stream",
          "name": "stdout",
          "text": [
            "[23 12 45 12 23  4 15  3]\n",
            "[ 3  4 12 12 15 23 23 45]\n"
          ]
        }
      ]
    },
    {
      "cell_type": "code",
      "source": [
        "print(arr.sort())"
      ],
      "metadata": {
        "colab": {
          "base_uri": "https://localhost:8080/"
        },
        "id": "rViAREBb0pHO",
        "outputId": "49047dbc-45a9-43de-b353-2ef751336dca"
      },
      "execution_count": 5,
      "outputs": [
        {
          "output_type": "stream",
          "name": "stdout",
          "text": [
            "None\n"
          ]
        }
      ]
    },
    {
      "cell_type": "code",
      "source": [
        "print(arr)"
      ],
      "metadata": {
        "colab": {
          "base_uri": "https://localhost:8080/"
        },
        "id": "d09o_r1M0zqr",
        "outputId": "afdf5c52-cd57-429d-f747-fb21f46d53ee"
      },
      "execution_count": 6,
      "outputs": [
        {
          "output_type": "stream",
          "name": "stdout",
          "text": [
            "[ 3  4 12 12 15 23 23 45]\n"
          ]
        }
      ]
    },
    {
      "cell_type": "code",
      "source": [
        "data = np.array([4, 9, -4, 3])"
      ],
      "metadata": {
        "id": "eaWoy0kE1nzK"
      },
      "execution_count": 7,
      "outputs": []
    },
    {
      "cell_type": "code",
      "source": [
        "roots = np.sqrt(data)\n",
        "roots"
      ],
      "metadata": {
        "colab": {
          "base_uri": "https://localhost:8080/"
        },
        "id": "zYMOVVco1u5R",
        "outputId": "1b37c74a-793c-4c98-ad7a-cfec1cf45f6a"
      },
      "execution_count": 8,
      "outputs": [
        {
          "output_type": "stream",
          "name": "stderr",
          "text": [
            "<ipython-input-8-415e7f928f58>:1: RuntimeWarning: invalid value encountered in sqrt\n",
            "  roots = np.sqrt(data)\n"
          ]
        },
        {
          "output_type": "execute_result",
          "data": {
            "text/plain": [
              "array([2.        , 3.        ,        nan, 1.73205081])"
            ]
          },
          "metadata": {},
          "execution_count": 8
        }
      ]
    }
  ]
}