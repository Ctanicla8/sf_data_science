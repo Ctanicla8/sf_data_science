{
 "cells": [
  {
   "cell_type": "code",
   "execution_count": 1,
   "metadata": {},
   "outputs": [],
   "source": [
    "import pandas as pd"
   ]
  },
  {
   "cell_type": "code",
   "execution_count": 6,
   "metadata": {},
   "outputs": [
    {
     "name": "stdout",
     "output_type": "stream",
     "text": [
      "<class 'pandas.core.frame.DataFrame'>\n",
      "RangeIndex: 300000 entries, 0 to 299999\n",
      "Data columns (total 14 columns):\n",
      " #   Column                   Non-Null Count   Dtype  \n",
      "---  ------                   --------------   -----  \n",
      " 0   starttime                300000 non-null  object \n",
      " 1   stoptime                 300000 non-null  object \n",
      " 2   start station id         299831 non-null  float64\n",
      " 3   start station name       299831 non-null  object \n",
      " 4   start station latitude   300000 non-null  float64\n",
      " 5   start station longitude  300000 non-null  float64\n",
      " 6   end station id           299831 non-null  float64\n",
      " 7   end station name         299831 non-null  object \n",
      " 8   end station latitude     300000 non-null  float64\n",
      " 9   end station longitude    300000 non-null  float64\n",
      " 10  bikeid                   300000 non-null  int64  \n",
      " 11  usertype                 300000 non-null  object \n",
      " 12  birth year               300000 non-null  int64  \n",
      " 13  gender                   300000 non-null  int64  \n",
      "dtypes: float64(6), int64(3), object(5)\n",
      "memory usage: 32.0+ MB\n"
     ]
    }
   ],
   "source": [
    "citibike_data = pd.read_csv('data/citibike-tripdata.csv', sep=',')\n",
    "citibike_df = citibike_data.copy()\n",
    "citibike_df.info()"
   ]
  },
  {
   "cell_type": "code",
   "execution_count": 10,
   "metadata": {},
   "outputs": [
    {
     "data": {
      "text/plain": [
       "0    281.0\n",
       "Name: start station id, dtype: float64"
      ]
     },
     "execution_count": 10,
     "metadata": {},
     "output_type": "execute_result"
    }
   ],
   "source": [
    "citibike_df['start station id'].mode()"
   ]
  },
  {
   "cell_type": "code",
   "execution_count": 11,
   "metadata": {},
   "outputs": [
    {
     "data": {
      "text/plain": [
       "0    33887\n",
       "Name: bikeid, dtype: int64"
      ]
     },
     "execution_count": 11,
     "metadata": {},
     "output_type": "execute_result"
    }
   ],
   "source": [
    "citibike_df['bikeid'].mode()"
   ]
  },
  {
   "cell_type": "code",
   "execution_count": 18,
   "metadata": {},
   "outputs": [
    {
     "data": {
      "text/html": [
       "<div>\n",
       "<style scoped>\n",
       "    .dataframe tbody tr th:only-of-type {\n",
       "        vertical-align: middle;\n",
       "    }\n",
       "\n",
       "    .dataframe tbody tr th {\n",
       "        vertical-align: top;\n",
       "    }\n",
       "\n",
       "    .dataframe thead th {\n",
       "        text-align: right;\n",
       "    }\n",
       "</style>\n",
       "<table border=\"1\" class=\"dataframe\">\n",
       "  <thead>\n",
       "    <tr style=\"text-align: right;\">\n",
       "      <th></th>\n",
       "      <th>start station id</th>\n",
       "      <th>start station latitude</th>\n",
       "      <th>start station longitude</th>\n",
       "      <th>end station id</th>\n",
       "      <th>end station latitude</th>\n",
       "      <th>end station longitude</th>\n",
       "      <th>bikeid</th>\n",
       "      <th>birth year</th>\n",
       "      <th>gender</th>\n",
       "    </tr>\n",
       "  </thead>\n",
       "  <tbody>\n",
       "    <tr>\n",
       "      <th>count</th>\n",
       "      <td>299831.000000</td>\n",
       "      <td>300000.000000</td>\n",
       "      <td>300000.000000</td>\n",
       "      <td>299831.000000</td>\n",
       "      <td>300000.000000</td>\n",
       "      <td>300000.000000</td>\n",
       "      <td>300000.000000</td>\n",
       "      <td>300000.000000</td>\n",
       "      <td>300000.000000</td>\n",
       "    </tr>\n",
       "    <tr>\n",
       "      <th>mean</th>\n",
       "      <td>1695.665665</td>\n",
       "      <td>40.737769</td>\n",
       "      <td>-73.982042</td>\n",
       "      <td>1684.624298</td>\n",
       "      <td>40.737294</td>\n",
       "      <td>-73.982330</td>\n",
       "      <td>26688.525943</td>\n",
       "      <td>1979.364803</td>\n",
       "      <td>1.108647</td>\n",
       "    </tr>\n",
       "    <tr>\n",
       "      <th>std</th>\n",
       "      <td>1458.264055</td>\n",
       "      <td>0.031999</td>\n",
       "      <td>0.020207</td>\n",
       "      <td>1457.549589</td>\n",
       "      <td>0.031794</td>\n",
       "      <td>0.020261</td>\n",
       "      <td>6271.691143</td>\n",
       "      <td>11.920796</td>\n",
       "      <td>0.613398</td>\n",
       "    </tr>\n",
       "    <tr>\n",
       "      <th>min</th>\n",
       "      <td>72.000000</td>\n",
       "      <td>40.655400</td>\n",
       "      <td>-74.025353</td>\n",
       "      <td>72.000000</td>\n",
       "      <td>40.655400</td>\n",
       "      <td>-74.083639</td>\n",
       "      <td>14529.000000</td>\n",
       "      <td>1885.000000</td>\n",
       "      <td>0.000000</td>\n",
       "    </tr>\n",
       "    <tr>\n",
       "      <th>25%</th>\n",
       "      <td>387.000000</td>\n",
       "      <td>40.716226</td>\n",
       "      <td>-73.995991</td>\n",
       "      <td>387.000000</td>\n",
       "      <td>40.716059</td>\n",
       "      <td>-73.996621</td>\n",
       "      <td>20569.000000</td>\n",
       "      <td>1969.000000</td>\n",
       "      <td>1.000000</td>\n",
       "    </tr>\n",
       "    <tr>\n",
       "      <th>50%</th>\n",
       "      <td>519.000000</td>\n",
       "      <td>40.737262</td>\n",
       "      <td>-73.985162</td>\n",
       "      <td>519.000000</td>\n",
       "      <td>40.737050</td>\n",
       "      <td>-73.985649</td>\n",
       "      <td>28197.000000</td>\n",
       "      <td>1982.000000</td>\n",
       "      <td>1.000000</td>\n",
       "    </tr>\n",
       "    <tr>\n",
       "      <th>75%</th>\n",
       "      <td>3282.000000</td>\n",
       "      <td>40.760683</td>\n",
       "      <td>-73.970416</td>\n",
       "      <td>3282.000000</td>\n",
       "      <td>40.760094</td>\n",
       "      <td>-73.971092</td>\n",
       "      <td>32216.000000</td>\n",
       "      <td>1989.000000</td>\n",
       "      <td>1.000000</td>\n",
       "    </tr>\n",
       "    <tr>\n",
       "      <th>max</th>\n",
       "      <td>3705.000000</td>\n",
       "      <td>40.869000</td>\n",
       "      <td>-73.878000</td>\n",
       "      <td>3705.000000</td>\n",
       "      <td>40.869000</td>\n",
       "      <td>-73.878000</td>\n",
       "      <td>34863.000000</td>\n",
       "      <td>2002.000000</td>\n",
       "      <td>2.000000</td>\n",
       "    </tr>\n",
       "  </tbody>\n",
       "</table>\n",
       "</div>"
      ],
      "text/plain": [
       "       start station id  start station latitude  start station longitude  \\\n",
       "count     299831.000000           300000.000000            300000.000000   \n",
       "mean        1695.665665               40.737769               -73.982042   \n",
       "std         1458.264055                0.031999                 0.020207   \n",
       "min           72.000000               40.655400               -74.025353   \n",
       "25%          387.000000               40.716226               -73.995991   \n",
       "50%          519.000000               40.737262               -73.985162   \n",
       "75%         3282.000000               40.760683               -73.970416   \n",
       "max         3705.000000               40.869000               -73.878000   \n",
       "\n",
       "       end station id  end station latitude  end station longitude  \\\n",
       "count   299831.000000         300000.000000          300000.000000   \n",
       "mean      1684.624298             40.737294             -73.982330   \n",
       "std       1457.549589              0.031794               0.020261   \n",
       "min         72.000000             40.655400             -74.083639   \n",
       "25%        387.000000             40.716059             -73.996621   \n",
       "50%        519.000000             40.737050             -73.985649   \n",
       "75%       3282.000000             40.760094             -73.971092   \n",
       "max       3705.000000             40.869000             -73.878000   \n",
       "\n",
       "              bikeid     birth year         gender  \n",
       "count  300000.000000  300000.000000  300000.000000  \n",
       "mean    26688.525943    1979.364803       1.108647  \n",
       "std      6271.691143      11.920796       0.613398  \n",
       "min     14529.000000    1885.000000       0.000000  \n",
       "25%     20569.000000    1969.000000       1.000000  \n",
       "50%     28197.000000    1982.000000       1.000000  \n",
       "75%     32216.000000    1989.000000       1.000000  \n",
       "max     34863.000000    2002.000000       2.000000  "
      ]
     },
     "execution_count": 18,
     "metadata": {},
     "output_type": "execute_result"
    }
   ],
   "source": [
    "citibike_df.describe()"
   ]
  }
 ],
 "metadata": {
  "kernelspec": {
   "display_name": "Python 3",
   "language": "python",
   "name": "python3"
  },
  "language_info": {
   "codemirror_mode": {
    "name": "ipython",
    "version": 3
   },
   "file_extension": ".py",
   "mimetype": "text/x-python",
   "name": "python",
   "nbconvert_exporter": "python",
   "pygments_lexer": "ipython3",
   "version": "3.10.6"
  },
  "orig_nbformat": 4,
  "vscode": {
   "interpreter": {
    "hash": "916dbcbb3f70747c44a77c7bcd40155683ae19c65e1c03b4aa3499c5328201f1"
   }
  }
 },
 "nbformat": 4,
 "nbformat_minor": 2
}
