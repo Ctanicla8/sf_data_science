{
 "cells": [
  {
   "cell_type": "markdown",
   "id": "963361ba",
   "metadata": {
    "id": "963361ba"
   },
   "source": [
    "### Настройки"
   ]
  },
  {
   "cell_type": "markdown",
   "id": "BAOI-9wun13V",
   "metadata": {
    "id": "BAOI-9wun13V"
   },
   "source": [
    "Начинаем с импорта библиотек"
   ]
  },
  {
   "cell_type": "code",
   "execution_count": 13,
   "id": "928bd544",
   "metadata": {
    "id": "928bd544"
   },
   "outputs": [],
   "source": [
    "import pandas as pd\n",
    "import psycopg2"
   ]
  },
  {
   "cell_type": "code",
   "execution_count": null,
   "id": "hs66HgVWqgRA",
   "metadata": {
    "id": "hs66HgVWqgRA"
   },
   "outputs": [],
   "source": [
    "# хороший тон при фиксации изменений в github не публиковать код с открытыми данными для входа\n",
    "# для запуска кода поместите данные, которые указаны на странице курса в эту ячейку\n",
    "# при размещении в github удалите эту ячейку"
   ]
  },
  {
   "cell_type": "markdown",
   "id": "TEgQI_RKfqa9",
   "metadata": {
    "id": "TEgQI_RKfqa9"
   },
   "source": [
    "Создаем соединение с заданными параметрами"
   ]
  },
  {
   "cell_type": "code",
   "execution_count": 14,
   "id": "70d84b8f",
   "metadata": {
    "id": "70d84b8f"
   },
   "outputs": [],
   "source": [
    "connection = psycopg2.connect(\n",
    "   dbname='',\n",
    "   user='',\n",
    "   host='',\n",
    "   password='',\n",
    "   port=5432\n",
    ")\n"
   ]
  },
  {
   "cell_type": "markdown",
   "id": "06k1EnoRiC-I",
   "metadata": {
    "id": "06k1EnoRiC-I"
   },
   "source": [
    "Запрос"
   ]
  },
  {
   "cell_type": "code",
   "execution_count": 17,
   "id": "35e24169",
   "metadata": {
    "id": "35e24169"
   },
   "outputs": [],
   "source": [
    "# код запроса представляет из себя строковую переменную\n",
    "n = 10\n",
    "query = f'''select * \n",
    "            from public.ds_vacancies\n",
    "            limit {n}\n",
    "         '''\n",
    "# лучше использовать f-строки - так удобнее передавать параметры"
   ]
  },
  {
   "cell_type": "markdown",
   "id": "52648c9f",
   "metadata": {
    "id": "52648c9f"
   },
   "source": [
    "### Выполнение запроса"
   ]
  },
  {
   "cell_type": "code",
   "execution_count": 18,
   "id": "2fe9f6eb",
   "metadata": {
    "colab": {
     "base_uri": "https://localhost:8080/",
     "height": 363
    },
    "id": "2fe9f6eb",
    "outputId": "771dd6f1-4300-4076-e462-d7ce388295d5"
   },
   "outputs": [
    {
     "name": "stderr",
     "output_type": "stream",
     "text": [
      "/tmp/ipykernel_10531/2473184231.py:2: UserWarning: pandas only supports SQLAlchemy connectable (engine/connection) or database string URI or sqlite3 DBAPI2 connection. Other DBAPI2 objects are not tested. Please consider using SQLAlchemy.\n",
      "  df = pd.read_sql_query(query, connection)\n"
     ]
    },
    {
     "data": {
      "text/html": [
       "<div>\n",
       "<style scoped>\n",
       "    .dataframe tbody tr th:only-of-type {\n",
       "        vertical-align: middle;\n",
       "    }\n",
       "\n",
       "    .dataframe tbody tr th {\n",
       "        vertical-align: top;\n",
       "    }\n",
       "\n",
       "    .dataframe thead th {\n",
       "        text-align: right;\n",
       "    }\n",
       "</style>\n",
       "<table border=\"1\" class=\"dataframe\">\n",
       "  <thead>\n",
       "    <tr style=\"text-align: right;\">\n",
       "      <th></th>\n",
       "      <th>id</th>\n",
       "      <th>name</th>\n",
       "      <th>key_skills</th>\n",
       "      <th>schedule</th>\n",
       "      <th>experience</th>\n",
       "      <th>employment</th>\n",
       "      <th>salary_from</th>\n",
       "      <th>salary_to</th>\n",
       "      <th>area_id</th>\n",
       "      <th>employer_id</th>\n",
       "    </tr>\n",
       "  </thead>\n",
       "  <tbody>\n",
       "    <tr>\n",
       "      <th>0</th>\n",
       "      <td>50533416</td>\n",
       "      <td>Junior+ CV/ML developer</td>\n",
       "      <td>Python\\tSQL\\tРабота в команде\\tOpenCV\\tML</td>\n",
       "      <td>Гибкий график</td>\n",
       "      <td>От 1 года до 3 лет</td>\n",
       "      <td>Полная занятость</td>\n",
       "      <td>NaN</td>\n",
       "      <td>NaN</td>\n",
       "      <td>4</td>\n",
       "      <td>80190</td>\n",
       "    </tr>\n",
       "    <tr>\n",
       "      <th>1</th>\n",
       "      <td>54824572</td>\n",
       "      <td>Data Scientist</td>\n",
       "      <td>Oracle Pl/SQL\\tБазы данных\\tMachine Learning\\t...</td>\n",
       "      <td>Полный день</td>\n",
       "      <td>От 1 года до 3 лет</td>\n",
       "      <td>Полная занятость</td>\n",
       "      <td>NaN</td>\n",
       "      <td>NaN</td>\n",
       "      <td>160</td>\n",
       "      <td>111304</td>\n",
       "    </tr>\n",
       "    <tr>\n",
       "      <th>2</th>\n",
       "      <td>54825318</td>\n",
       "      <td>Data Scientist (Junior+)</td>\n",
       "      <td>Python\\tOpenCV\\tTensorflow\\tComputer Vision\\tН...</td>\n",
       "      <td>Полный день</td>\n",
       "      <td>От 1 года до 3 лет</td>\n",
       "      <td>Полная занятость</td>\n",
       "      <td>50000.0</td>\n",
       "      <td>70000.0</td>\n",
       "      <td>72</td>\n",
       "      <td>215942</td>\n",
       "    </tr>\n",
       "    <tr>\n",
       "      <th>3</th>\n",
       "      <td>66120847</td>\n",
       "      <td>AI/ML Senior Engineer</td>\n",
       "      <td>Python\\tFlask\\tLinux\\tAWS\\tGit</td>\n",
       "      <td>Гибкий график</td>\n",
       "      <td>От 3 до 6 лет</td>\n",
       "      <td>Полная занятость</td>\n",
       "      <td>NaN</td>\n",
       "      <td>NaN</td>\n",
       "      <td>2759</td>\n",
       "      <td>204511</td>\n",
       "    </tr>\n",
       "    <tr>\n",
       "      <th>4</th>\n",
       "      <td>55351147</td>\n",
       "      <td>Data Scientist</td>\n",
       "      <td>Python\\tSQL\\tNLP\\tScikit-learn\\tMachine Learning</td>\n",
       "      <td>Полный день</td>\n",
       "      <td>От 1 года до 3 лет</td>\n",
       "      <td>Полная занятость</td>\n",
       "      <td>NaN</td>\n",
       "      <td>NaN</td>\n",
       "      <td>53</td>\n",
       "      <td>3127</td>\n",
       "    </tr>\n",
       "    <tr>\n",
       "      <th>5</th>\n",
       "      <td>55351168</td>\n",
       "      <td>Data Scientist</td>\n",
       "      <td>Python\\tSQL\\tNLP\\tScikit-learn\\tMachine Learning</td>\n",
       "      <td>Полный день</td>\n",
       "      <td>От 1 года до 3 лет</td>\n",
       "      <td>Полная занятость</td>\n",
       "      <td>NaN</td>\n",
       "      <td>NaN</td>\n",
       "      <td>78</td>\n",
       "      <td>3127</td>\n",
       "    </tr>\n",
       "    <tr>\n",
       "      <th>6</th>\n",
       "      <td>55351179</td>\n",
       "      <td>Data Scientist</td>\n",
       "      <td>Python\\tSQL\\tNLP\\tScikit-learn\\tMachine Learning</td>\n",
       "      <td>Полный день</td>\n",
       "      <td>От 1 года до 3 лет</td>\n",
       "      <td>Полная занятость</td>\n",
       "      <td>NaN</td>\n",
       "      <td>NaN</td>\n",
       "      <td>76</td>\n",
       "      <td>3127</td>\n",
       "    </tr>\n",
       "    <tr>\n",
       "      <th>7</th>\n",
       "      <td>55351195</td>\n",
       "      <td>Data Scientist</td>\n",
       "      <td>Python\\tSQL\\tNLP\\tScikit-learn\\tMachine Learning</td>\n",
       "      <td>Полный день</td>\n",
       "      <td>От 1 года до 3 лет</td>\n",
       "      <td>Полная занятость</td>\n",
       "      <td>NaN</td>\n",
       "      <td>NaN</td>\n",
       "      <td>2</td>\n",
       "      <td>3127</td>\n",
       "    </tr>\n",
       "    <tr>\n",
       "      <th>8</th>\n",
       "      <td>66120842</td>\n",
       "      <td>AI/ML Senior Engineer</td>\n",
       "      <td>Python\\tFlask\\tLinux\\tAWS\\tGit</td>\n",
       "      <td>Гибкий график</td>\n",
       "      <td>От 3 до 6 лет</td>\n",
       "      <td>Полная занятость</td>\n",
       "      <td>NaN</td>\n",
       "      <td>NaN</td>\n",
       "      <td>2758</td>\n",
       "      <td>204511</td>\n",
       "    </tr>\n",
       "    <tr>\n",
       "      <th>9</th>\n",
       "      <td>55166994</td>\n",
       "      <td>ML разработчик (удалённо)</td>\n",
       "      <td>Python\\tПоиск информации в интернет\\tC++\\tМате...</td>\n",
       "      <td>Удаленная работа</td>\n",
       "      <td>От 1 года до 3 лет</td>\n",
       "      <td>Полная занятость</td>\n",
       "      <td>50000.0</td>\n",
       "      <td>100000.0</td>\n",
       "      <td>1</td>\n",
       "      <td>6154479</td>\n",
       "    </tr>\n",
       "  </tbody>\n",
       "</table>\n",
       "</div>"
      ],
      "text/plain": [
       "         id                       name  \\\n",
       "0  50533416    Junior+ CV/ML developer   \n",
       "1  54824572             Data Scientist   \n",
       "2  54825318   Data Scientist (Junior+)   \n",
       "3  66120847      AI/ML Senior Engineer   \n",
       "4  55351147             Data Scientist   \n",
       "5  55351168             Data Scientist   \n",
       "6  55351179             Data Scientist   \n",
       "7  55351195             Data Scientist   \n",
       "8  66120842      AI/ML Senior Engineer   \n",
       "9  55166994  ML разработчик (удалённо)   \n",
       "\n",
       "                                          key_skills          schedule  \\\n",
       "0          Python\\tSQL\\tРабота в команде\\tOpenCV\\tML     Гибкий график   \n",
       "1  Oracle Pl/SQL\\tБазы данных\\tMachine Learning\\t...       Полный день   \n",
       "2  Python\\tOpenCV\\tTensorflow\\tComputer Vision\\tН...       Полный день   \n",
       "3                     Python\\tFlask\\tLinux\\tAWS\\tGit     Гибкий график   \n",
       "4   Python\\tSQL\\tNLP\\tScikit-learn\\tMachine Learning       Полный день   \n",
       "5   Python\\tSQL\\tNLP\\tScikit-learn\\tMachine Learning       Полный день   \n",
       "6   Python\\tSQL\\tNLP\\tScikit-learn\\tMachine Learning       Полный день   \n",
       "7   Python\\tSQL\\tNLP\\tScikit-learn\\tMachine Learning       Полный день   \n",
       "8                     Python\\tFlask\\tLinux\\tAWS\\tGit     Гибкий график   \n",
       "9  Python\\tПоиск информации в интернет\\tC++\\tМате...  Удаленная работа   \n",
       "\n",
       "           experience        employment  salary_from  salary_to  area_id  \\\n",
       "0  От 1 года до 3 лет  Полная занятость          NaN        NaN        4   \n",
       "1  От 1 года до 3 лет  Полная занятость          NaN        NaN      160   \n",
       "2  От 1 года до 3 лет  Полная занятость      50000.0    70000.0       72   \n",
       "3       От 3 до 6 лет  Полная занятость          NaN        NaN     2759   \n",
       "4  От 1 года до 3 лет  Полная занятость          NaN        NaN       53   \n",
       "5  От 1 года до 3 лет  Полная занятость          NaN        NaN       78   \n",
       "6  От 1 года до 3 лет  Полная занятость          NaN        NaN       76   \n",
       "7  От 1 года до 3 лет  Полная занятость          NaN        NaN        2   \n",
       "8       От 3 до 6 лет  Полная занятость          NaN        NaN     2758   \n",
       "9  От 1 года до 3 лет  Полная занятость      50000.0   100000.0        1   \n",
       "\n",
       "   employer_id  \n",
       "0        80190  \n",
       "1       111304  \n",
       "2       215942  \n",
       "3       204511  \n",
       "4         3127  \n",
       "5         3127  \n",
       "6         3127  \n",
       "7         3127  \n",
       "8       204511  \n",
       "9      6154479  "
      ]
     },
     "execution_count": 18,
     "metadata": {},
     "output_type": "execute_result"
    }
   ],
   "source": [
    "# используем метод read_sql_query, чтобы получить результаты запроса сразу в виде датафрейма\n",
    "df = pd.read_sql_query(query, connection)\n",
    "df"
   ]
  },
  {
   "cell_type": "markdown",
   "id": "622e62c1",
   "metadata": {
    "id": "622e62c1"
   },
   "source": [
    "### Финал"
   ]
  },
  {
   "cell_type": "code",
   "execution_count": 19,
   "id": "8a103f6a",
   "metadata": {
    "id": "8a103f6a"
   },
   "outputs": [],
   "source": [
    "# не забываем закрыть соединение после окончания работы\n",
    "connection.close()"
   ]
  }
 ],
 "metadata": {
  "colab": {
   "collapsed_sections": [],
   "provenance": []
  },
  "kernelspec": {
   "display_name": "Python 3 (ipykernel)",
   "language": "python",
   "name": "python3"
  },
  "language_info": {
   "codemirror_mode": {
    "name": "ipython",
    "version": 3
   },
   "file_extension": ".py",
   "mimetype": "text/x-python",
   "name": "python",
   "nbconvert_exporter": "python",
   "pygments_lexer": "ipython3",
   "version": "3.10.6"
  }
 },
 "nbformat": 4,
 "nbformat_minor": 5
}
