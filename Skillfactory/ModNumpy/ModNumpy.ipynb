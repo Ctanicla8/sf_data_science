{
 "cells": [
  {
   "cell_type": "code",
   "execution_count": 1,
   "metadata": {
    "executionInfo": {
     "elapsed": 342,
     "status": "ok",
     "timestamp": 1674228935103,
     "user": {
      "displayName": "Станислав Минаков",
      "userId": "05030487108887363582"
     },
     "user_tz": -180
    },
    "id": "ru86GSQsZni6"
   },
   "outputs": [],
   "source": [
    "import numpy as np\n",
    "from collections import Counter"
   ]
  },
  {
   "cell_type": "code",
   "execution_count": 2,
   "metadata": {
    "colab": {
     "base_uri": "https://localhost:8080/"
    },
    "executionInfo": {
     "elapsed": 271,
     "status": "ok",
     "timestamp": 1674031019794,
     "user": {
      "displayName": "Станислав Минаков",
      "userId": "05030487108887363582"
     },
     "user_tz": -180
    },
    "id": "i4Y8DnNUxVts",
    "outputId": "5b24cca9-f76f-4a34-cbab-a609d0c66412"
   },
   "outputs": [
    {
     "data": {
      "text/plain": [
       "array([[0. , 0.5, 1. , 1.5],\n",
       "       [2. , 2.5, 3. , 3.5],\n",
       "       [4. , 4.5, 5. , 5.5]])"
      ]
     },
     "execution_count": 2,
     "metadata": {},
     "output_type": "execute_result"
    }
   ],
   "source": [
    "nd_array = np.linspace(0, 6, 12, endpoint=False).reshape(3, 4)\n",
    "nd_array[2:4]\n",
    "nd_array[:2, 2]\n",
    "nd_array"
   ]
  },
  {
   "cell_type": "code",
   "execution_count": null,
   "metadata": {
    "id": "KUzscv13zWtr"
   },
   "outputs": [],
   "source": [
    "mystery = np.array([[-13586,  15203,  28445, -27117,  -1781, -17182, -18049],\n",
    "       [ 25936, -30968,  -1297,  -4593,   6451,  15790,   7181],\n",
    "       [ 13348,  28049,  28655,  -6012,  21762,  25397,   8225],\n",
    "       [ 13240,   7994,  32592,  20149,  13754,  11795,   -564],\n",
    "       [-21725,  -8681,  30305,  22260, -17918,  12578,  29943],\n",
    "       [-16841, -25392, -17278,  11740,   5916,    -47, -32037]],\n",
    "      dtype=np.int16)"
   ]
  },
  {
   "cell_type": "code",
   "execution_count": null,
   "metadata": {
    "colab": {
     "base_uri": "https://localhost:8080/"
    },
    "executionInfo": {
     "elapsed": 256,
     "status": "ok",
     "timestamp": 1674030104182,
     "user": {
      "displayName": "Станислав Минаков",
      "userId": "05030487108887363582"
     },
     "user_tz": -180
    },
    "id": "Xn7bIeayzgOB",
    "outputId": "c6b74f0b-03de-4a4e-8172-8d91778c5db3"
   },
   "outputs": [
    {
     "name": "stdout",
     "output_type": "stream",
     "text": [
      "30305\n"
     ]
    }
   ],
   "source": [
    "elem_5_3 = mystery[4, 2]\n",
    "print(elem_5_3)"
   ]
  },
  {
   "cell_type": "code",
   "execution_count": null,
   "metadata": {
    "colab": {
     "base_uri": "https://localhost:8080/"
    },
    "executionInfo": {
     "elapsed": 283,
     "status": "ok",
     "timestamp": 1674027733756,
     "user": {
      "displayName": "Станислав Минаков",
      "userId": "05030487108887363582"
     },
     "user_tz": -180
    },
    "id": "N_Oy14_b0cGT",
    "outputId": "12289ef8-49ec-4706-a20c-84d43ffb291a"
   },
   "outputs": [
    {
     "data": {
      "text/plain": [
       "(6, 7)"
      ]
     },
     "execution_count": 18,
     "metadata": {},
     "output_type": "execute_result"
    }
   ],
   "source": [
    "mystery.shape"
   ]
  },
  {
   "cell_type": "code",
   "execution_count": null,
   "metadata": {
    "colab": {
     "base_uri": "https://localhost:8080/"
    },
    "executionInfo": {
     "elapsed": 279,
     "status": "ok",
     "timestamp": 1674030799907,
     "user": {
      "displayName": "Станислав Минаков",
      "userId": "05030487108887363582"
     },
     "user_tz": -180
    },
    "id": "36lrmM5Jz6aC",
    "outputId": "2df159bc-fa0e-4da1-a68e-23f0a79a68e9"
   },
   "outputs": [
    {
     "name": "stdout",
     "output_type": "stream",
     "text": [
      "-32037\n"
     ]
    }
   ],
   "source": [
    "last = mystery[5, 6]\n",
    "print(last)"
   ]
  },
  {
   "cell_type": "code",
   "execution_count": null,
   "metadata": {
    "colab": {
     "base_uri": "https://localhost:8080/"
    },
    "executionInfo": {
     "elapsed": 281,
     "status": "ok",
     "timestamp": 1674032347128,
     "user": {
      "displayName": "Станислав Минаков",
      "userId": "05030487108887363582"
     },
     "user_tz": -180
    },
    "id": "bJo1rAcP19vK",
    "outputId": "16d31255-304d-4000-fecd-25951d21586e"
   },
   "outputs": [
    {
     "name": "stdout",
     "output_type": "stream",
     "text": [
      "[13240  7994 32592 20149 13754 11795  -564]\n"
     ]
    }
   ],
   "source": [
    "line = mystery[3:4]\n",
    "line_4 = line[0]\n",
    "print(line_4)"
   ]
  },
  {
   "cell_type": "code",
   "execution_count": null,
   "metadata": {
    "colab": {
     "base_uri": "https://localhost:8080/"
    },
    "executionInfo": {
     "elapsed": 301,
     "status": "ok",
     "timestamp": 1674034473203,
     "user": {
      "displayName": "Станислав Минаков",
      "userId": "05030487108887363582"
     },
     "user_tz": -180
    },
    "id": "X8FWnlk52tsj",
    "outputId": "4afc529e-5cff-4d0c-e2f1-496137ed2120"
   },
   "outputs": [
    {
     "name": "stdout",
     "output_type": "stream",
     "text": [
      "[-17182  15790  25397  11795  12578    -47]\n"
     ]
    }
   ],
   "source": [
    "col = mystery[0:, 5:6]\n",
    "col_1 = col.transpose()\n",
    "col_2 = col_1[0]\n",
    "print(col_2)"
   ]
  },
  {
   "cell_type": "code",
   "execution_count": null,
   "metadata": {
    "colab": {
     "base_uri": "https://localhost:8080/"
    },
    "executionInfo": {
     "elapsed": 267,
     "status": "ok",
     "timestamp": 1674028522519,
     "user": {
      "displayName": "Станислав Минаков",
      "userId": "05030487108887363582"
     },
     "user_tz": -180
    },
    "id": "BzB9jn4N3raR",
    "outputId": "ea94d5e9-be5d-42c5-da16-17cefc14de86"
   },
   "outputs": [
    {
     "name": "stdout",
     "output_type": "stream",
     "text": [
      "[[-1297 -4593  6451]\n",
      " [28655 -6012 21762]\n",
      " [32592 20149 13754]]\n"
     ]
    }
   ],
   "source": [
    "part = mystery[1:4, 2:5]\n",
    "print(part)"
   ]
  },
  {
   "cell_type": "code",
   "execution_count": null,
   "metadata": {
    "colab": {
     "base_uri": "https://localhost:8080/"
    },
    "executionInfo": {
     "elapsed": 279,
     "status": "ok",
     "timestamp": 1674034815407,
     "user": {
      "displayName": "Станислав Минаков",
      "userId": "05030487108887363582"
     },
     "user_tz": -180
    },
    "id": "2ICcudft4ITr",
    "outputId": "084a7213-5a77-4f43-f6ba-4cf996b1dafb"
   },
   "outputs": [
    {
     "name": "stdout",
     "output_type": "stream",
     "text": [
      "[-32037  29943   -564   8225   7181 -18049]\n"
     ]
    }
   ],
   "source": [
    "r = mystery[0:, 6:7]\n",
    "r = r[::-1]\n",
    "re = r.transpose()\n",
    "rev = re[0]\n",
    "print(rev)"
   ]
  },
  {
   "cell_type": "code",
   "execution_count": null,
   "metadata": {
    "colab": {
     "base_uri": "https://localhost:8080/"
    },
    "executionInfo": {
     "elapsed": 271,
     "status": "ok",
     "timestamp": 1674029689758,
     "user": {
      "displayName": "Станислав Минаков",
      "userId": "05030487108887363582"
     },
     "user_tz": -180
    },
    "id": "HmwGHJoH8KkG",
    "outputId": "c2832efb-974f-44b8-e175-b8810db8ac4e"
   },
   "outputs": [
    {
     "name": "stdout",
     "output_type": "stream",
     "text": [
      "[[-13586  25936  13348  13240 -21725 -16841]\n",
      " [ 15203 -30968  28049   7994  -8681 -25392]\n",
      " [ 28445  -1297  28655  32592  30305 -17278]\n",
      " [-27117  -4593  -6012  20149  22260  11740]\n",
      " [ -1781   6451  21762  13754 -17918   5916]\n",
      " [-17182  15790  25397  11795  12578    -47]\n",
      " [-18049   7181   8225   -564  29943 -32037]]\n"
     ]
    }
   ],
   "source": [
    "trans = mystery.transpose()\n",
    "print(trans)"
   ]
  },
  {
   "cell_type": "code",
   "execution_count": null,
   "metadata": {
    "id": "_MCyjmt00J4x"
   },
   "outputs": [],
   "source": [
    "arr = np.array([23,12,45,12,23,4,15,3])"
   ]
  },
  {
   "cell_type": "code",
   "execution_count": null,
   "metadata": {
    "colab": {
     "base_uri": "https://localhost:8080/"
    },
    "executionInfo": {
     "elapsed": 298,
     "status": "ok",
     "timestamp": 1674044398991,
     "user": {
      "displayName": "Станислав Минаков",
      "userId": "05030487108887363582"
     },
     "user_tz": -180
    },
    "id": "XHQKhm_z0OJt",
    "outputId": "6d44646b-b742-4464-8e48-bbd1050b6777"
   },
   "outputs": [
    {
     "name": "stdout",
     "output_type": "stream",
     "text": [
      "[23 12 45 12 23  4 15  3]\n",
      "[ 3  4 12 12 15 23 23 45]\n"
     ]
    }
   ],
   "source": [
    "arr_new = np.sort(arr)\n",
    "print(arr)\n",
    "print(arr_new)"
   ]
  },
  {
   "cell_type": "code",
   "execution_count": null,
   "metadata": {
    "colab": {
     "base_uri": "https://localhost:8080/"
    },
    "executionInfo": {
     "elapsed": 244,
     "status": "ok",
     "timestamp": 1674044450943,
     "user": {
      "displayName": "Станислав Минаков",
      "userId": "05030487108887363582"
     },
     "user_tz": -180
    },
    "id": "rViAREBb0pHO",
    "outputId": "49047dbc-45a9-43de-b353-2ef751336dca"
   },
   "outputs": [
    {
     "name": "stdout",
     "output_type": "stream",
     "text": [
      "None\n"
     ]
    }
   ],
   "source": [
    "print(arr.sort())"
   ]
  },
  {
   "cell_type": "code",
   "execution_count": null,
   "metadata": {
    "colab": {
     "base_uri": "https://localhost:8080/"
    },
    "executionInfo": {
     "elapsed": 394,
     "status": "ok",
     "timestamp": 1674044469778,
     "user": {
      "displayName": "Станислав Минаков",
      "userId": "05030487108887363582"
     },
     "user_tz": -180
    },
    "id": "d09o_r1M0zqr",
    "outputId": "afdf5c52-cd57-429d-f747-fb21f46d53ee"
   },
   "outputs": [
    {
     "name": "stdout",
     "output_type": "stream",
     "text": [
      "[ 3  4 12 12 15 23 23 45]\n"
     ]
    }
   ],
   "source": [
    "print(arr)"
   ]
  },
  {
   "cell_type": "code",
   "execution_count": null,
   "metadata": {
    "id": "eaWoy0kE1nzK"
   },
   "outputs": [],
   "source": [
    "data = np.array([4, 9, -4, 3])"
   ]
  },
  {
   "cell_type": "code",
   "execution_count": null,
   "metadata": {
    "colab": {
     "base_uri": "https://localhost:8080/"
    },
    "executionInfo": {
     "elapsed": 285,
     "status": "ok",
     "timestamp": 1674047054744,
     "user": {
      "displayName": "Станислав Минаков",
      "userId": "05030487108887363582"
     },
     "user_tz": -180
    },
    "id": "zYMOVVco1u5R",
    "outputId": "8547217b-ee36-4a1f-ba74-1e6173ab8a28"
   },
   "outputs": [
    {
     "name": "stdout",
     "output_type": "stream",
     "text": [
      "[2.         3.         0.         1.73205081]\n"
     ]
    },
    {
     "name": "stderr",
     "output_type": "stream",
     "text": [
      "<ipython-input-12-40d602e56086>:1: RuntimeWarning: invalid value encountered in sqrt\n",
      "  roots = np.sqrt(data)\n"
     ]
    },
    {
     "data": {
      "text/plain": [
       "6.732050807568877"
      ]
     },
     "execution_count": 12,
     "metadata": {},
     "output_type": "execute_result"
    }
   ],
   "source": [
    "roots = np.sqrt(data)\n",
    "np.isnan(roots)\n",
    "roots[np.isnan(roots)] = 0\n",
    "print(roots)\n",
    "sum(roots)\n"
   ]
  },
  {
   "cell_type": "markdown",
   "metadata": {
    "id": "EK-yEdXGF9uD"
   },
   "source": [
    "Задание 7.4"
   ]
  },
  {
   "cell_type": "code",
   "execution_count": null,
   "metadata": {
    "colab": {
     "base_uri": "https://localhost:8080/"
    },
    "executionInfo": {
     "elapsed": 269,
     "status": "ok",
     "timestamp": 1674047447842,
     "user": {
      "displayName": "Станислав Минаков",
      "userId": "05030487108887363582"
     },
     "user_tz": -180
    },
    "id": "HOKbzXpb_Vaw",
    "outputId": "a21eec88-f89e-47b5-89bc-4e68e117c96f"
   },
   "outputs": [
    {
     "data": {
      "text/plain": [
       "array([False, False, False,  True, False, False, False, False,  True,\n",
       "       False, False, False,  True, False, False])"
      ]
     },
     "execution_count": 15,
     "metadata": {},
     "output_type": "execute_result"
    }
   ],
   "source": [
    "mystery1 = np.array([ 12279., -26024.,  28745.,  np.nan,  31244.,  -2365.,  -6974.,\n",
    "        -9212., np.nan, -17722.,  16132.,  25933.,  np.nan, -16431.,\n",
    "        29810.], dtype=np.float32)\n",
    "nans_index = np.isnan(mystery1)\n",
    "nans_index"
   ]
  },
  {
   "cell_type": "code",
   "execution_count": null,
   "metadata": {
    "colab": {
     "base_uri": "https://localhost:8080/"
    },
    "executionInfo": {
     "elapsed": 281,
     "status": "ok",
     "timestamp": 1674048497965,
     "user": {
      "displayName": "Станислав Минаков",
      "userId": "05030487108887363582"
     },
     "user_tz": -180
    },
    "id": "kWsFpwf6AHv4",
    "outputId": "9ddb7a7a-1f9b-4d41-af5b-819c21efad38"
   },
   "outputs": [
    {
     "data": {
      "text/plain": [
       "3"
      ]
     },
     "execution_count": 23,
     "metadata": {},
     "output_type": "execute_result"
    }
   ],
   "source": [
    "c = Counter(nans_index)\n",
    "n_nan = c[True]\n",
    "n_nan"
   ]
  },
  {
   "cell_type": "code",
   "execution_count": null,
   "metadata": {
    "colab": {
     "base_uri": "https://localhost:8080/"
    },
    "executionInfo": {
     "elapsed": 270,
     "status": "ok",
     "timestamp": 1674048687081,
     "user": {
      "displayName": "Станислав Минаков",
      "userId": "05030487108887363582"
     },
     "user_tz": -180
    },
    "id": "qVxzMVaXERfb",
    "outputId": "3d078979-5b6e-4cb6-aedd-65ddea1996fd"
   },
   "outputs": [
    {
     "data": {
      "text/plain": [
       "array([ 12279., -26024.,  28745.,      0.,  31244.,  -2365.,  -6974.,\n",
       "        -9212.,      0., -17722.,  16132.,  25933.,      0., -16431.,\n",
       "        29810.], dtype=float32)"
      ]
     },
     "execution_count": 25,
     "metadata": {},
     "output_type": "execute_result"
    }
   ],
   "source": [
    "mystery_new = mystery1\n",
    "mystery_new[np.isnan(mystery_new)] = 0"
   ]
  },
  {
   "cell_type": "code",
   "execution_count": null,
   "metadata": {
    "colab": {
     "base_uri": "https://localhost:8080/"
    },
    "executionInfo": {
     "elapsed": 341,
     "status": "ok",
     "timestamp": 1674050582722,
     "user": {
      "displayName": "Станислав Минаков",
      "userId": "05030487108887363582"
     },
     "user_tz": -180
    },
    "id": "inu7R8afFAMo",
    "outputId": "ebdeaa28-05b9-4199-b5eb-30941cc2c0ce"
   },
   "outputs": [
    {
     "name": "stdout",
     "output_type": "stream",
     "text": [
      "[ 12279 -26024  28745      0  31244  -2365  -6974  -9212      0 -17722\n",
      "  16132  25933      0 -16431  29810]\n",
      "[-26024. -17722. -16431.  -9212.  -6974.  -2365.      0.      0.      0.\n",
      "  12279.  16132.  25933.  28745.  29810.  31244.]\n"
     ]
    }
   ],
   "source": [
    "mystery_int = np.int32(mystery1)\n",
    "array = np.sort(mystery1)\n",
    "print(mystery_int)\n",
    "print(array)"
   ]
  },
  {
   "cell_type": "code",
   "execution_count": null,
   "metadata": {
    "colab": {
     "base_uri": "https://localhost:8080/"
    },
    "executionInfo": {
     "elapsed": 269,
     "status": "ok",
     "timestamp": 1674050513943,
     "user": {
      "displayName": "Станислав Минаков",
      "userId": "05030487108887363582"
     },
     "user_tz": -180
    },
    "id": "3CiXDONSGbec",
    "outputId": "128948f7-d627-4562-aee2-c21db6b1aa70"
   },
   "outputs": [
    {
     "data": {
      "text/plain": [
       "array([[-26024.,  -2365.,  16132.],\n",
       "       [-17722.,      0.,  25933.],\n",
       "       [-16431.,      0.,  28745.],\n",
       "       [ -9212.,      0.,  29810.],\n",
       "       [ -6974.,  12279.,  31244.]], dtype=float32)"
      ]
     },
     "execution_count": 32,
     "metadata": {},
     "output_type": "execute_result"
    }
   ],
   "source": [
    "table = array.reshape((5, 3), order='F')\n",
    "table"
   ]
  },
  {
   "cell_type": "code",
   "execution_count": null,
   "metadata": {
    "colab": {
     "base_uri": "https://localhost:8080/"
    },
    "executionInfo": {
     "elapsed": 277,
     "status": "ok",
     "timestamp": 1674050518911,
     "user": {
      "displayName": "Станислав Минаков",
      "userId": "05030487108887363582"
     },
     "user_tz": -180
    },
    "id": "F_YWRK3rG7Y2",
    "outputId": "f89791b6-3346-49f2-ca54-6fa439098258"
   },
   "outputs": [
    {
     "name": "stdout",
     "output_type": "stream",
     "text": [
      "[-2365.     0.     0.     0. 12279.]\n"
     ]
    }
   ],
   "source": [
    "c = table[0:, 1:2]\n",
    "co = c.transpose()\n",
    "col = co[0]\n",
    "print(col)"
   ]
  },
  {
   "cell_type": "markdown",
   "metadata": {
    "id": "Y6oIM-91cUbR"
   },
   "source": [
    "Векторы"
   ]
  },
  {
   "cell_type": "code",
   "execution_count": null,
   "metadata": {
    "id": "gvFhL7N_cX_U"
   },
   "outputs": [],
   "source": [
    "vec1 = np.array([2, 4, 7, 2.5])\n",
    "vec2 = np.array([12, 6, 3.6, 13])"
   ]
  },
  {
   "cell_type": "code",
   "execution_count": null,
   "metadata": {
    "colab": {
     "base_uri": "https://localhost:8080/"
    },
    "executionInfo": {
     "elapsed": 276,
     "status": "ok",
     "timestamp": 1674155803081,
     "user": {
      "displayName": "Станислав Минаков",
      "userId": "05030487108887363582"
     },
     "user_tz": -180
    },
    "id": "Uz33YKcPc45R",
    "outputId": "13a94222-ebc9-4b0a-dc39-f4d36563f937"
   },
   "outputs": [
    {
     "data": {
      "text/plain": [
       "array([False, False,  True, False])"
      ]
     },
     "execution_count": 10,
     "metadata": {},
     "output_type": "execute_result"
    }
   ],
   "source": [
    "vec1 + vec2\n",
    "vec1 * vec2\n",
    "vec1 > vec2"
   ]
  },
  {
   "cell_type": "code",
   "execution_count": null,
   "metadata": {
    "id": "IgkaRDfmgq43"
   },
   "outputs": [],
   "source": [
    "vec = np.array([3, 4])"
   ]
  },
  {
   "cell_type": "markdown",
   "metadata": {
    "id": "KjHcOOzMhgCW"
   },
   "source": [
    "Vector length"
   ]
  },
  {
   "cell_type": "code",
   "execution_count": null,
   "metadata": {
    "colab": {
     "base_uri": "https://localhost:8080/"
    },
    "executionInfo": {
     "elapsed": 295,
     "status": "ok",
     "timestamp": 1674156809970,
     "user": {
      "displayName": "Станислав Минаков",
      "userId": "05030487108887363582"
     },
     "user_tz": -180
    },
    "id": "iT02dvCdg7nS",
    "outputId": "5a239c6b-a3d1-4d2d-921c-3b5b57afc081"
   },
   "outputs": [
    {
     "data": {
      "text/plain": [
       "5.0"
      ]
     },
     "execution_count": 14,
     "metadata": {},
     "output_type": "execute_result"
    }
   ],
   "source": [
    "length = np.sqrt(np.sum(vec ** 2))\n",
    "length = np.linalg.norm(vec)\n",
    "length"
   ]
  },
  {
   "cell_type": "code",
   "execution_count": null,
   "metadata": {
    "id": "bVOzczB7hfZR"
   },
   "outputs": [],
   "source": [
    "vec3 = np.array([0, 3, 5])\n",
    "vec4 = np.array([12, 4, 7])"
   ]
  },
  {
   "cell_type": "markdown",
   "metadata": {
    "id": "oBVP7D4OanFF"
   },
   "source": [
    "Distance between vectors"
   ]
  },
  {
   "cell_type": "code",
   "execution_count": null,
   "metadata": {
    "colab": {
     "base_uri": "https://localhost:8080/"
    },
    "executionInfo": {
     "elapsed": 296,
     "status": "ok",
     "timestamp": 1674205288182,
     "user": {
      "displayName": "Станислав Минаков",
      "userId": "05030487108887363582"
     },
     "user_tz": -180
    },
    "id": "erHv4RgCaGdh",
    "outputId": "baaa3fe2-f3b6-46e8-8cc2-35846f21a821"
   },
   "outputs": [
    {
     "data": {
      "text/plain": [
       "12.206555615733702"
      ]
     },
     "execution_count": 5,
     "metadata": {},
     "output_type": "execute_result"
    }
   ],
   "source": [
    "distance = np.sqrt(np.sum((vec3 - vec4) ** 2))\n",
    "distance"
   ]
  },
  {
   "cell_type": "code",
   "execution_count": null,
   "metadata": {
    "colab": {
     "base_uri": "https://localhost:8080/"
    },
    "executionInfo": {
     "elapsed": 302,
     "status": "ok",
     "timestamp": 1674205337732,
     "user": {
      "displayName": "Станислав Минаков",
      "userId": "05030487108887363582"
     },
     "user_tz": -180
    },
    "id": "eEgfPJc2aWoc",
    "outputId": "c5307447-de3f-4b08-c8fb-e6b54b276ea7"
   },
   "outputs": [
    {
     "data": {
      "text/plain": [
       "12.206555615733702"
      ]
     },
     "execution_count": 7,
     "metadata": {},
     "output_type": "execute_result"
    }
   ],
   "source": [
    "distance = np.linalg.norm(vec3 - vec4)\n",
    "distance"
   ]
  },
  {
   "cell_type": "markdown",
   "metadata": {
    "id": "uAxTT8AFbC4C"
   },
   "source": [
    "Scalar product of vectors"
   ]
  },
  {
   "cell_type": "code",
   "execution_count": null,
   "metadata": {
    "id": "11zotal6ajEX"
   },
   "outputs": [],
   "source": [
    "vec5 = np.arange(1,6)\n",
    "vec6 = np.linspace(10, 20, 5)"
   ]
  },
  {
   "cell_type": "code",
   "execution_count": null,
   "metadata": {
    "colab": {
     "base_uri": "https://localhost:8080/"
    },
    "executionInfo": {
     "elapsed": 16,
     "status": "ok",
     "timestamp": 1674207425282,
     "user": {
      "displayName": "Станислав Минаков",
      "userId": "05030487108887363582"
     },
     "user_tz": -180
    },
    "id": "p5jz7WtCiPKj",
    "outputId": "07287281-d6e9-401d-b08f-dc201e00cef9"
   },
   "outputs": [
    {
     "data": {
      "text/plain": [
       "250.0"
      ]
     },
     "execution_count": 11,
     "metadata": {},
     "output_type": "execute_result"
    }
   ],
   "source": [
    "scalar_product = np.sum(vec5 * vec6)\n",
    "scalar_product"
   ]
  },
  {
   "cell_type": "code",
   "execution_count": null,
   "metadata": {
    "colab": {
     "base_uri": "https://localhost:8080/"
    },
    "executionInfo": {
     "elapsed": 306,
     "status": "ok",
     "timestamp": 1674207542349,
     "user": {
      "displayName": "Станислав Минаков",
      "userId": "05030487108887363582"
     },
     "user_tz": -180
    },
    "id": "751xb-43if8Z",
    "outputId": "486452fc-bb85-4f28-fb84-0cdf12452093"
   },
   "outputs": [
    {
     "data": {
      "text/plain": [
       "250.0"
      ]
     },
     "execution_count": 12,
     "metadata": {},
     "output_type": "execute_result"
    }
   ],
   "source": [
    "scalar_product = np.dot(vec5, vec6)\n",
    "scalar_product"
   ]
  },
  {
   "cell_type": "markdown",
   "metadata": {
    "id": "faBAEGRWlCLE"
   },
   "source": [
    "Задания 8,4 - 8,6"
   ]
  },
  {
   "cell_type": "code",
   "execution_count": null,
   "metadata": {
    "id": "YFWZbx8hi8cV"
   },
   "outputs": [],
   "source": [
    "a = np.array([23, 34, 27])\n",
    "b = np.array([-54, 1, 46])\n",
    "c = np.array([46, 68, 54])"
   ]
  },
  {
   "cell_type": "code",
   "execution_count": null,
   "metadata": {
    "id": "DwFGoQ0Clluu"
   },
   "outputs": [],
   "source": [
    "length_a = np.linalg.norm(a)\n",
    "length_b = np.linalg.norm(b)\n",
    "length_c = np.linalg.norm(c)"
   ]
  },
  {
   "cell_type": "markdown",
   "metadata": {
    "id": "YpziAHWoo3GB"
   },
   "source": [
    "8,4 Сонаправленность:"
   ]
  },
  {
   "cell_type": "code",
   "execution_count": null,
   "metadata": {
    "colab": {
     "base_uri": "https://localhost:8080/"
    },
    "executionInfo": {
     "elapsed": 284,
     "status": "ok",
     "timestamp": 1674209013613,
     "user": {
      "displayName": "Станислав Минаков",
      "userId": "05030487108887363582"
     },
     "user_tz": -180
    },
    "id": "zKdp7eX7n4Kx",
    "outputId": "91853d2f-b3e4-414c-e978-ddfd1be061ea"
   },
   "outputs": [
    {
     "name": "stdout",
     "output_type": "stream",
     "text": [
      "False\n",
      "True\n",
      "False\n"
     ]
    }
   ],
   "source": [
    "print(length_a + length_b == np.linalg.norm(a+b))\n",
    "print(length_a + length_c == np.linalg.norm(a+c))\n",
    "print(length_c + length_b == np.linalg.norm(c+b))"
   ]
  },
  {
   "cell_type": "markdown",
   "metadata": {
    "id": "nrSCTocipApD"
   },
   "source": [
    "8,5 Расстояние больше ста?"
   ]
  },
  {
   "cell_type": "code",
   "execution_count": null,
   "metadata": {
    "colab": {
     "base_uri": "https://localhost:8080/"
    },
    "executionInfo": {
     "elapsed": 321,
     "status": "ok",
     "timestamp": 1674209290057,
     "user": {
      "displayName": "Станислав Минаков",
      "userId": "05030487108887363582"
     },
     "user_tz": -180
    },
    "id": "kBjuLeH1o0pH",
    "outputId": "c4439123-b4b4-4aa7-d926-acd9d620907e"
   },
   "outputs": [
    {
     "name": "stdout",
     "output_type": "stream",
     "text": [
      "85.901105930017\n",
      "49.13247398615299\n",
      "120.6358155772986\n"
     ]
    }
   ],
   "source": [
    "print(np.linalg.norm(a-b))\n",
    "print(np.linalg.norm(a-c))\n",
    "print(np.linalg.norm(b-c))"
   ]
  },
  {
   "cell_type": "markdown",
   "metadata": {
    "id": "buRY_0WbppVs"
   },
   "source": [
    "8,6 Перпендикулярность"
   ]
  },
  {
   "cell_type": "code",
   "execution_count": null,
   "metadata": {
    "colab": {
     "base_uri": "https://localhost:8080/"
    },
    "executionInfo": {
     "elapsed": 279,
     "status": "ok",
     "timestamp": 1674210062782,
     "user": {
      "displayName": "Станислав Минаков",
      "userId": "05030487108887363582"
     },
     "user_tz": -180
    },
    "id": "voJGwnoJp1TR",
    "outputId": "e633bf95-cddd-46ba-d92b-c9f88cca00bb"
   },
   "outputs": [
    {
     "name": "stdout",
     "output_type": "stream",
     "text": [
      "False\n",
      "False\n",
      "False\n"
     ]
    }
   ],
   "source": [
    "print(np.dot(a, b) == 0)\n",
    "print(np.dot(a, c) == 0)\n",
    "print(np.dot(c, b) == 0)"
   ]
  },
  {
   "cell_type": "markdown",
   "metadata": {
    "id": "r7dgDCM6uF_k"
   },
   "source": [
    "Минимум, максимум, среднее"
   ]
  },
  {
   "cell_type": "code",
   "execution_count": null,
   "metadata": {
    "colab": {
     "base_uri": "https://localhost:8080/"
    },
    "executionInfo": {
     "elapsed": 278,
     "status": "ok",
     "timestamp": 1674210532191,
     "user": {
      "displayName": "Станислав Минаков",
      "userId": "05030487108887363582"
     },
     "user_tz": -180
    },
    "id": "5mUAjHxTuLgq",
    "outputId": "000705b7-9a9c-4ed1-d09c-38a758c37174"
   },
   "outputs": [
    {
     "data": {
      "text/plain": [
       "1"
      ]
     },
     "execution_count": 26,
     "metadata": {},
     "output_type": "execute_result"
    }
   ],
   "source": [
    "vec = np.array([2,7,18,28,18,1,8,4])\n",
    "vec.min()"
   ]
  },
  {
   "cell_type": "code",
   "execution_count": null,
   "metadata": {
    "colab": {
     "base_uri": "https://localhost:8080/"
    },
    "executionInfo": {
     "elapsed": 387,
     "status": "ok",
     "timestamp": 1674210535320,
     "user": {
      "displayName": "Станислав Минаков",
      "userId": "05030487108887363582"
     },
     "user_tz": -180
    },
    "id": "m6nWSgREuSI_",
    "outputId": "3ade9899-d4f4-4c87-e3b8-97508704842f"
   },
   "outputs": [
    {
     "data": {
      "text/plain": [
       "28"
      ]
     },
     "execution_count": 27,
     "metadata": {},
     "output_type": "execute_result"
    }
   ],
   "source": [
    "np.max(vec)"
   ]
  },
  {
   "cell_type": "code",
   "execution_count": null,
   "metadata": {
    "colab": {
     "base_uri": "https://localhost:8080/"
    },
    "executionInfo": {
     "elapsed": 285,
     "status": "ok",
     "timestamp": 1674210548927,
     "user": {
      "displayName": "Станислав Минаков",
      "userId": "05030487108887363582"
     },
     "user_tz": -180
    },
    "id": "GKPll9neuXin",
    "outputId": "4052da67-a633-4bed-cf89-cd04edb9cfdd"
   },
   "outputs": [
    {
     "data": {
      "text/plain": [
       "10.75"
      ]
     },
     "execution_count": 28,
     "metadata": {},
     "output_type": "execute_result"
    }
   ],
   "source": [
    "vec.mean()"
   ]
  },
  {
   "cell_type": "code",
   "execution_count": null,
   "metadata": {
    "colab": {
     "base_uri": "https://localhost:8080/"
    },
    "executionInfo": {
     "elapsed": 279,
     "status": "ok",
     "timestamp": 1674211562273,
     "user": {
      "displayName": "Станислав Минаков",
      "userId": "05030487108887363582"
     },
     "user_tz": -180
    },
    "id": "2HCTFH1ZyCZR",
    "outputId": "ef62ac62-4c7d-4769-db1c-3fda89a8282f"
   },
   "outputs": [
    {
     "data": {
      "text/plain": [
       "7.5"
      ]
     },
     "execution_count": 30,
     "metadata": {},
     "output_type": "execute_result"
    }
   ],
   "source": [
    "np.median(vec)"
   ]
  },
  {
   "cell_type": "code",
   "execution_count": null,
   "metadata": {
    "colab": {
     "base_uri": "https://localhost:8080/"
    },
    "executionInfo": {
     "elapsed": 291,
     "status": "ok",
     "timestamp": 1674211843925,
     "user": {
      "displayName": "Станислав Минаков",
      "userId": "05030487108887363582"
     },
     "user_tz": -180
    },
    "id": "2jpI23UwzSPg",
    "outputId": "0b5cb11c-e052-428b-cca9-8bac56777bbf"
   },
   "outputs": [
    {
     "data": {
      "text/plain": [
       "8.954747344286158"
      ]
     },
     "execution_count": 31,
     "metadata": {},
     "output_type": "execute_result"
    }
   ],
   "source": [
    "np.std(vec)"
   ]
  },
  {
   "cell_type": "markdown",
   "metadata": {
    "id": "1CWnW9A_zkVk"
   },
   "source": [
    "SEED генератор"
   ]
  },
  {
   "cell_type": "code",
   "execution_count": 5,
   "metadata": {
    "colab": {
     "base_uri": "https://localhost:8080/"
    },
    "executionInfo": {
     "elapsed": 16,
     "status": "ok",
     "timestamp": 1674228598046,
     "user": {
      "displayName": "Станислав Минаков",
      "userId": "05030487108887363582"
     },
     "user_tz": -180
    },
    "id": "rQ9fcLVOzGmI",
    "outputId": "0698009d-79cf-4506-9298-4ecb5dd85b42"
   },
   "outputs": [
    {
     "data": {
      "text/plain": [
       "array([[5, 4, 0, 4],\n",
       "       [6, 6, 4, 8],\n",
       "       [4, 2, 8, 7]])"
      ]
     },
     "execution_count": 5,
     "metadata": {},
     "output_type": "execute_result"
    }
   ],
   "source": [
    "np.random.seed(22)\n",
    "np.random.randint(10, size=(3,4))"
   ]
  },
  {
   "cell_type": "code",
   "execution_count": 8,
   "metadata": {
    "colab": {
     "base_uri": "https://localhost:8080/"
    },
    "executionInfo": {
     "elapsed": 266,
     "status": "ok",
     "timestamp": 1674228656325,
     "user": {
      "displayName": "Станислав Минаков",
      "userId": "05030487108887363582"
     },
     "user_tz": -180
    },
    "id": "AV9D_PwKzT_8",
    "outputId": "de1c5ef3-1407-4e8e-daf0-c5827e57c598"
   },
   "outputs": [
    {
     "name": "stdout",
     "output_type": "stream",
     "text": [
      "[8 8 3]\n",
      "[7 7 0]\n",
      "[4 2 5]\n",
      "[2 2 2]\n"
     ]
    }
   ],
   "source": [
    "np.random.seed(100)\n",
    "print(np.random.randint(10, size=3))\n",
    "print(np.random.randint(10, size=3))\n",
    "print(np.random.randint(10, size=3))\n",
    "print(np.random.randint(10, size=3))"
   ]
  },
  {
   "cell_type": "markdown",
   "metadata": {
    "id": "6Ol6MlDy2kq-"
   },
   "source": [
    "Задание 9.6 "
   ]
  },
  {
   "cell_type": "code",
   "execution_count": null,
   "metadata": {
    "id": "AJPpOxTh0SRM"
   },
   "outputs": [],
   "source": [
    "np.random.seed(2021)\n",
    "simple = np.random.rand()\n",
    "randoms = np.random.uniform(-150, 2021, size=120)\n",
    "table = np.random.randint(1, 101, size=(3, 2))\n",
    "even = np.arange(2, 17, 2)\n",
    "mix = even\n",
    "np.random.shuffle(mix)\n",
    "select = np.random.choice(even, size=3, replace=False)\n",
    "triplet = np.random.permutation(select)"
   ]
  }
 ],
 "metadata": {
  "colab": {
   "authorship_tag": "ABX9TyMZmARiFPN7uQWa0Tz1MnQQ",
   "mount_file_id": "1RqcTNFXYle49H6qb_zWYiVpvUIEBaOw6",
   "provenance": []
  },
  "kernelspec": {
   "display_name": "Python 3 (ipykernel)",
   "language": "python",
   "name": "python3"
  },
  "language_info": {
   "codemirror_mode": {
    "name": "ipython",
    "version": 3
   },
   "file_extension": ".py",
   "mimetype": "text/x-python",
   "name": "python",
   "nbconvert_exporter": "python",
   "pygments_lexer": "ipython3",
   "version": "3.10.6"
  }
 },
 "nbformat": 4,
 "nbformat_minor": 1
}
