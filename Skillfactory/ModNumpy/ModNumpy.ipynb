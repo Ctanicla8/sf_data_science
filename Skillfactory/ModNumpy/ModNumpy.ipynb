{
  "nbformat": 4,
  "nbformat_minor": 0,
  "metadata": {
    "colab": {
      "provenance": []
    },
    "kernelspec": {
      "name": "python3",
      "display_name": "Python 3"
    },
    "language_info": {
      "name": "python"
    }
  },
  "cells": [
    {
      "cell_type": "code",
      "execution_count": null,
      "metadata": {
        "id": "ru86GSQsZni6"
      },
      "outputs": [],
      "source": [
        "import numpy as np\n",
        "from collections import Counter\n",
        "from collections import deque"
      ]
    },
    {
      "cell_type": "code",
      "source": [
        "nd_array = np.linspace(0, 6, 12, endpoint=False).reshape(3, 4)\n",
        "nd_array[2:4]\n",
        "nd_array[:2, 2]"
      ],
      "metadata": {
        "colab": {
          "base_uri": "https://localhost:8080/"
        },
        "id": "i4Y8DnNUxVts",
        "outputId": "5b24cca9-f76f-4a34-cbab-a609d0c66412"
      },
      "execution_count": null,
      "outputs": [
        {
          "output_type": "execute_result",
          "data": {
            "text/plain": [
              "array([1., 3.])"
            ]
          },
          "metadata": {},
          "execution_count": 86
        }
      ]
    },
    {
      "cell_type": "code",
      "source": [
        "mystery = np.array([[-13586,  15203,  28445, -27117,  -1781, -17182, -18049],\n",
        "       [ 25936, -30968,  -1297,  -4593,   6451,  15790,   7181],\n",
        "       [ 13348,  28049,  28655,  -6012,  21762,  25397,   8225],\n",
        "       [ 13240,   7994,  32592,  20149,  13754,  11795,   -564],\n",
        "       [-21725,  -8681,  30305,  22260, -17918,  12578,  29943],\n",
        "       [-16841, -25392, -17278,  11740,   5916,    -47, -32037]],\n",
        "      dtype=np.int16)"
      ],
      "metadata": {
        "id": "KUzscv13zWtr"
      },
      "execution_count": null,
      "outputs": []
    },
    {
      "cell_type": "code",
      "source": [
        "elem_5_3 = mystery[4, 2]\n",
        "print(elem_5_3)"
      ],
      "metadata": {
        "colab": {
          "base_uri": "https://localhost:8080/"
        },
        "id": "Xn7bIeayzgOB",
        "outputId": "c6b74f0b-03de-4a4e-8172-8d91778c5db3"
      },
      "execution_count": null,
      "outputs": [
        {
          "output_type": "stream",
          "name": "stdout",
          "text": [
            "30305\n"
          ]
        }
      ]
    },
    {
      "cell_type": "code",
      "source": [
        "mystery.shape"
      ],
      "metadata": {
        "colab": {
          "base_uri": "https://localhost:8080/"
        },
        "id": "N_Oy14_b0cGT",
        "outputId": "12289ef8-49ec-4706-a20c-84d43ffb291a"
      },
      "execution_count": null,
      "outputs": [
        {
          "output_type": "execute_result",
          "data": {
            "text/plain": [
              "(6, 7)"
            ]
          },
          "metadata": {},
          "execution_count": 18
        }
      ]
    },
    {
      "cell_type": "code",
      "source": [
        "last = mystery[5, 6]\n",
        "print(last)"
      ],
      "metadata": {
        "colab": {
          "base_uri": "https://localhost:8080/"
        },
        "id": "36lrmM5Jz6aC",
        "outputId": "2df159bc-fa0e-4da1-a68e-23f0a79a68e9"
      },
      "execution_count": null,
      "outputs": [
        {
          "output_type": "stream",
          "name": "stdout",
          "text": [
            "-32037\n"
          ]
        }
      ]
    },
    {
      "cell_type": "code",
      "source": [
        "line = mystery[3:4]\n",
        "line_4 = line[0]\n",
        "print(line_4)"
      ],
      "metadata": {
        "colab": {
          "base_uri": "https://localhost:8080/"
        },
        "id": "bJo1rAcP19vK",
        "outputId": "16d31255-304d-4000-fecd-25951d21586e"
      },
      "execution_count": null,
      "outputs": [
        {
          "output_type": "stream",
          "name": "stdout",
          "text": [
            "[13240  7994 32592 20149 13754 11795  -564]\n"
          ]
        }
      ]
    },
    {
      "cell_type": "code",
      "source": [
        "col = mystery[0:, 5:6]\n",
        "col_1 = col.transpose()\n",
        "col_2 = col_1[0]\n",
        "print(col_2)"
      ],
      "metadata": {
        "colab": {
          "base_uri": "https://localhost:8080/"
        },
        "id": "X8FWnlk52tsj",
        "outputId": "4afc529e-5cff-4d0c-e2f1-496137ed2120"
      },
      "execution_count": null,
      "outputs": [
        {
          "output_type": "stream",
          "name": "stdout",
          "text": [
            "[-17182  15790  25397  11795  12578    -47]\n"
          ]
        }
      ]
    },
    {
      "cell_type": "code",
      "source": [
        "part = mystery[1:4, 2:5]\n",
        "print(part)"
      ],
      "metadata": {
        "colab": {
          "base_uri": "https://localhost:8080/"
        },
        "id": "BzB9jn4N3raR",
        "outputId": "ea94d5e9-be5d-42c5-da16-17cefc14de86"
      },
      "execution_count": null,
      "outputs": [
        {
          "output_type": "stream",
          "name": "stdout",
          "text": [
            "[[-1297 -4593  6451]\n",
            " [28655 -6012 21762]\n",
            " [32592 20149 13754]]\n"
          ]
        }
      ]
    },
    {
      "cell_type": "code",
      "source": [
        "r = mystery[0:, 6:7]\n",
        "r = r[::-1]\n",
        "re = r.transpose()\n",
        "rev = re[0]\n",
        "print(rev)"
      ],
      "metadata": {
        "colab": {
          "base_uri": "https://localhost:8080/"
        },
        "id": "2ICcudft4ITr",
        "outputId": "084a7213-5a77-4f43-f6ba-4cf996b1dafb"
      },
      "execution_count": null,
      "outputs": [
        {
          "output_type": "stream",
          "name": "stdout",
          "text": [
            "[-32037  29943   -564   8225   7181 -18049]\n"
          ]
        }
      ]
    },
    {
      "cell_type": "code",
      "source": [
        "trans = mystery.transpose()\n",
        "print(trans)"
      ],
      "metadata": {
        "colab": {
          "base_uri": "https://localhost:8080/"
        },
        "id": "HmwGHJoH8KkG",
        "outputId": "c2832efb-974f-44b8-e175-b8810db8ac4e"
      },
      "execution_count": null,
      "outputs": [
        {
          "output_type": "stream",
          "name": "stdout",
          "text": [
            "[[-13586  25936  13348  13240 -21725 -16841]\n",
            " [ 15203 -30968  28049   7994  -8681 -25392]\n",
            " [ 28445  -1297  28655  32592  30305 -17278]\n",
            " [-27117  -4593  -6012  20149  22260  11740]\n",
            " [ -1781   6451  21762  13754 -17918   5916]\n",
            " [-17182  15790  25397  11795  12578    -47]\n",
            " [-18049   7181   8225   -564  29943 -32037]]\n"
          ]
        }
      ]
    },
    {
      "cell_type": "code",
      "source": [
        "arr = np.array([23,12,45,12,23,4,15,3])"
      ],
      "metadata": {
        "id": "_MCyjmt00J4x"
      },
      "execution_count": null,
      "outputs": []
    },
    {
      "cell_type": "code",
      "source": [
        "arr_new = np.sort(arr)\n",
        "print(arr)\n",
        "print(arr_new)"
      ],
      "metadata": {
        "colab": {
          "base_uri": "https://localhost:8080/"
        },
        "id": "XHQKhm_z0OJt",
        "outputId": "6d44646b-b742-4464-8e48-bbd1050b6777"
      },
      "execution_count": null,
      "outputs": [
        {
          "output_type": "stream",
          "name": "stdout",
          "text": [
            "[23 12 45 12 23  4 15  3]\n",
            "[ 3  4 12 12 15 23 23 45]\n"
          ]
        }
      ]
    },
    {
      "cell_type": "code",
      "source": [
        "print(arr.sort())"
      ],
      "metadata": {
        "colab": {
          "base_uri": "https://localhost:8080/"
        },
        "id": "rViAREBb0pHO",
        "outputId": "49047dbc-45a9-43de-b353-2ef751336dca"
      },
      "execution_count": null,
      "outputs": [
        {
          "output_type": "stream",
          "name": "stdout",
          "text": [
            "None\n"
          ]
        }
      ]
    },
    {
      "cell_type": "code",
      "source": [
        "print(arr)"
      ],
      "metadata": {
        "colab": {
          "base_uri": "https://localhost:8080/"
        },
        "id": "d09o_r1M0zqr",
        "outputId": "afdf5c52-cd57-429d-f747-fb21f46d53ee"
      },
      "execution_count": null,
      "outputs": [
        {
          "output_type": "stream",
          "name": "stdout",
          "text": [
            "[ 3  4 12 12 15 23 23 45]\n"
          ]
        }
      ]
    },
    {
      "cell_type": "code",
      "source": [
        "data = np.array([4, 9, -4, 3])"
      ],
      "metadata": {
        "id": "eaWoy0kE1nzK"
      },
      "execution_count": null,
      "outputs": []
    },
    {
      "cell_type": "code",
      "source": [
        "roots = np.sqrt(data)\n",
        "np.isnan(roots)\n",
        "roots[np.isnan(roots)] = 0\n",
        "print(roots)\n",
        "sum(roots)\n"
      ],
      "metadata": {
        "colab": {
          "base_uri": "https://localhost:8080/"
        },
        "id": "zYMOVVco1u5R",
        "outputId": "8547217b-ee36-4a1f-ba74-1e6173ab8a28"
      },
      "execution_count": null,
      "outputs": [
        {
          "output_type": "stream",
          "name": "stdout",
          "text": [
            "[2.         3.         0.         1.73205081]\n"
          ]
        },
        {
          "output_type": "stream",
          "name": "stderr",
          "text": [
            "<ipython-input-12-40d602e56086>:1: RuntimeWarning: invalid value encountered in sqrt\n",
            "  roots = np.sqrt(data)\n"
          ]
        },
        {
          "output_type": "execute_result",
          "data": {
            "text/plain": [
              "6.732050807568877"
            ]
          },
          "metadata": {},
          "execution_count": 12
        }
      ]
    },
    {
      "cell_type": "markdown",
      "source": [
        "Задание 7.4"
      ],
      "metadata": {
        "id": "EK-yEdXGF9uD"
      }
    },
    {
      "cell_type": "code",
      "source": [
        "mystery1 = np.array([ 12279., -26024.,  28745.,  np.nan,  31244.,  -2365.,  -6974.,\n",
        "        -9212., np.nan, -17722.,  16132.,  25933.,  np.nan, -16431.,\n",
        "        29810.], dtype=np.float32)\n",
        "nans_index = np.isnan(mystery1)\n",
        "nans_index"
      ],
      "metadata": {
        "colab": {
          "base_uri": "https://localhost:8080/"
        },
        "id": "HOKbzXpb_Vaw",
        "outputId": "a21eec88-f89e-47b5-89bc-4e68e117c96f"
      },
      "execution_count": null,
      "outputs": [
        {
          "output_type": "execute_result",
          "data": {
            "text/plain": [
              "array([False, False, False,  True, False, False, False, False,  True,\n",
              "       False, False, False,  True, False, False])"
            ]
          },
          "metadata": {},
          "execution_count": 15
        }
      ]
    },
    {
      "cell_type": "code",
      "source": [
        "c = Counter(nans_index)\n",
        "n_nan = c[True]\n",
        "n_nan"
      ],
      "metadata": {
        "colab": {
          "base_uri": "https://localhost:8080/"
        },
        "id": "kWsFpwf6AHv4",
        "outputId": "9ddb7a7a-1f9b-4d41-af5b-819c21efad38"
      },
      "execution_count": null,
      "outputs": [
        {
          "output_type": "execute_result",
          "data": {
            "text/plain": [
              "3"
            ]
          },
          "metadata": {},
          "execution_count": 23
        }
      ]
    },
    {
      "cell_type": "code",
      "source": [
        "mystery_new = mystery1\n",
        "mystery_new[np.isnan(mystery_new)] = 0"
      ],
      "metadata": {
        "colab": {
          "base_uri": "https://localhost:8080/"
        },
        "id": "qVxzMVaXERfb",
        "outputId": "3d078979-5b6e-4cb6-aedd-65ddea1996fd"
      },
      "execution_count": null,
      "outputs": [
        {
          "output_type": "execute_result",
          "data": {
            "text/plain": [
              "array([ 12279., -26024.,  28745.,      0.,  31244.,  -2365.,  -6974.,\n",
              "        -9212.,      0., -17722.,  16132.,  25933.,      0., -16431.,\n",
              "        29810.], dtype=float32)"
            ]
          },
          "metadata": {},
          "execution_count": 25
        }
      ]
    },
    {
      "cell_type": "code",
      "source": [
        "mystery_int = np.int32(mystery1)\n",
        "array = np.sort(mystery1)\n",
        "print(mystery_int)\n",
        "print(array)"
      ],
      "metadata": {
        "colab": {
          "base_uri": "https://localhost:8080/"
        },
        "id": "inu7R8afFAMo",
        "outputId": "ebdeaa28-05b9-4199-b5eb-30941cc2c0ce"
      },
      "execution_count": null,
      "outputs": [
        {
          "output_type": "stream",
          "name": "stdout",
          "text": [
            "[ 12279 -26024  28745      0  31244  -2365  -6974  -9212      0 -17722\n",
            "  16132  25933      0 -16431  29810]\n",
            "[-26024. -17722. -16431.  -9212.  -6974.  -2365.      0.      0.      0.\n",
            "  12279.  16132.  25933.  28745.  29810.  31244.]\n"
          ]
        }
      ]
    },
    {
      "cell_type": "code",
      "source": [
        "table = array.reshape((5, 3), order='F')\n",
        "table"
      ],
      "metadata": {
        "colab": {
          "base_uri": "https://localhost:8080/"
        },
        "id": "3CiXDONSGbec",
        "outputId": "128948f7-d627-4562-aee2-c21db6b1aa70"
      },
      "execution_count": null,
      "outputs": [
        {
          "output_type": "execute_result",
          "data": {
            "text/plain": [
              "array([[-26024.,  -2365.,  16132.],\n",
              "       [-17722.,      0.,  25933.],\n",
              "       [-16431.,      0.,  28745.],\n",
              "       [ -9212.,      0.,  29810.],\n",
              "       [ -6974.,  12279.,  31244.]], dtype=float32)"
            ]
          },
          "metadata": {},
          "execution_count": 32
        }
      ]
    },
    {
      "cell_type": "code",
      "source": [
        "c = table[0:, 1:2]\n",
        "co = c.transpose()\n",
        "col = co[0]\n",
        "print(col)"
      ],
      "metadata": {
        "colab": {
          "base_uri": "https://localhost:8080/"
        },
        "id": "F_YWRK3rG7Y2",
        "outputId": "f89791b6-3346-49f2-ca54-6fa439098258"
      },
      "execution_count": null,
      "outputs": [
        {
          "output_type": "stream",
          "name": "stdout",
          "text": [
            "[-2365.     0.     0.     0. 12279.]\n"
          ]
        }
      ]
    },
    {
      "cell_type": "markdown",
      "source": [
        "Векторы"
      ],
      "metadata": {
        "id": "Y6oIM-91cUbR"
      }
    },
    {
      "cell_type": "code",
      "source": [
        "vec1 = np.array([2, 4, 7, 2.5])\n",
        "vec2 = np.array([12, 6, 3.6, 13])"
      ],
      "metadata": {
        "id": "gvFhL7N_cX_U"
      },
      "execution_count": null,
      "outputs": []
    },
    {
      "cell_type": "code",
      "source": [
        "vec1 + vec2\n",
        "vec1 * vec2\n",
        "vec1 > vec2"
      ],
      "metadata": {
        "colab": {
          "base_uri": "https://localhost:8080/"
        },
        "id": "Uz33YKcPc45R",
        "outputId": "13a94222-ebc9-4b0a-dc39-f4d36563f937"
      },
      "execution_count": null,
      "outputs": [
        {
          "output_type": "execute_result",
          "data": {
            "text/plain": [
              "array([False, False,  True, False])"
            ]
          },
          "metadata": {},
          "execution_count": 10
        }
      ]
    },
    {
      "cell_type": "code",
      "source": [
        "vec = np.array([3, 4])"
      ],
      "metadata": {
        "id": "IgkaRDfmgq43"
      },
      "execution_count": null,
      "outputs": []
    },
    {
      "cell_type": "markdown",
      "source": [
        "Vector length"
      ],
      "metadata": {
        "id": "KjHcOOzMhgCW"
      }
    },
    {
      "cell_type": "code",
      "source": [
        "length = np.sqrt(np.sum(vec ** 2))\n",
        "length = np.linalg.norm(vec)\n",
        "length"
      ],
      "metadata": {
        "colab": {
          "base_uri": "https://localhost:8080/"
        },
        "id": "iT02dvCdg7nS",
        "outputId": "5a239c6b-a3d1-4d2d-921c-3b5b57afc081"
      },
      "execution_count": null,
      "outputs": [
        {
          "output_type": "execute_result",
          "data": {
            "text/plain": [
              "5.0"
            ]
          },
          "metadata": {},
          "execution_count": 14
        }
      ]
    },
    {
      "cell_type": "code",
      "source": [
        "vec3 = np.array([0, 3, 5])\n",
        "vec4 = np.array([12, 4, 7])"
      ],
      "metadata": {
        "id": "bVOzczB7hfZR"
      },
      "execution_count": null,
      "outputs": []
    },
    {
      "cell_type": "markdown",
      "source": [
        "Distance between vectors"
      ],
      "metadata": {
        "id": "oBVP7D4OanFF"
      }
    },
    {
      "cell_type": "code",
      "source": [
        "distance = np.sqrt(np.sum((vec3 - vec4) ** 2))\n",
        "distance"
      ],
      "metadata": {
        "colab": {
          "base_uri": "https://localhost:8080/"
        },
        "id": "erHv4RgCaGdh",
        "outputId": "baaa3fe2-f3b6-46e8-8cc2-35846f21a821"
      },
      "execution_count": null,
      "outputs": [
        {
          "output_type": "execute_result",
          "data": {
            "text/plain": [
              "12.206555615733702"
            ]
          },
          "metadata": {},
          "execution_count": 5
        }
      ]
    },
    {
      "cell_type": "code",
      "source": [
        "distance = np.linalg.norm(vec3 - vec4)\n",
        "distance"
      ],
      "metadata": {
        "colab": {
          "base_uri": "https://localhost:8080/"
        },
        "id": "eEgfPJc2aWoc",
        "outputId": "c5307447-de3f-4b08-c8fb-e6b54b276ea7"
      },
      "execution_count": null,
      "outputs": [
        {
          "output_type": "execute_result",
          "data": {
            "text/plain": [
              "12.206555615733702"
            ]
          },
          "metadata": {},
          "execution_count": 7
        }
      ]
    },
    {
      "cell_type": "markdown",
      "source": [
        "Scalar product of vectors"
      ],
      "metadata": {
        "id": "uAxTT8AFbC4C"
      }
    },
    {
      "cell_type": "code",
      "source": [
        "vec5 = np.arange(1,6)\n",
        "vec6 = np.linspace(10, 20, 5)"
      ],
      "metadata": {
        "id": "11zotal6ajEX"
      },
      "execution_count": null,
      "outputs": []
    },
    {
      "cell_type": "code",
      "source": [
        "scalar_product = np.sum(vec5 * vec6)\n",
        "scalar_product"
      ],
      "metadata": {
        "colab": {
          "base_uri": "https://localhost:8080/"
        },
        "id": "p5jz7WtCiPKj",
        "outputId": "07287281-d6e9-401d-b08f-dc201e00cef9"
      },
      "execution_count": null,
      "outputs": [
        {
          "output_type": "execute_result",
          "data": {
            "text/plain": [
              "250.0"
            ]
          },
          "metadata": {},
          "execution_count": 11
        }
      ]
    },
    {
      "cell_type": "code",
      "source": [
        "scalar_product = np.dot(vec5, vec6)\n",
        "scalar_product"
      ],
      "metadata": {
        "colab": {
          "base_uri": "https://localhost:8080/"
        },
        "id": "751xb-43if8Z",
        "outputId": "486452fc-bb85-4f28-fb84-0cdf12452093"
      },
      "execution_count": null,
      "outputs": [
        {
          "output_type": "execute_result",
          "data": {
            "text/plain": [
              "250.0"
            ]
          },
          "metadata": {},
          "execution_count": 12
        }
      ]
    },
    {
      "cell_type": "markdown",
      "source": [
        "Задания 8,4 - 8,6"
      ],
      "metadata": {
        "id": "faBAEGRWlCLE"
      }
    },
    {
      "cell_type": "code",
      "source": [
        "a = np.array([23, 34, 27])\n",
        "b = np.array([-54, 1, 46])\n",
        "c = np.array([46, 68, 54])"
      ],
      "metadata": {
        "id": "YFWZbx8hi8cV"
      },
      "execution_count": null,
      "outputs": []
    },
    {
      "cell_type": "code",
      "source": [
        "length_a = np.linalg.norm(a)\n",
        "length_b = np.linalg.norm(b)\n",
        "length_c = np.linalg.norm(c)"
      ],
      "metadata": {
        "id": "DwFGoQ0Clluu"
      },
      "execution_count": null,
      "outputs": []
    },
    {
      "cell_type": "markdown",
      "source": [
        "8,4 Сонаправленность:"
      ],
      "metadata": {
        "id": "YpziAHWoo3GB"
      }
    },
    {
      "cell_type": "code",
      "source": [
        "print(length_a + length_b == np.linalg.norm(a+b))\n",
        "print(length_a + length_c == np.linalg.norm(a+c))\n",
        "print(length_c + length_b == np.linalg.norm(c+b))"
      ],
      "metadata": {
        "colab": {
          "base_uri": "https://localhost:8080/"
        },
        "id": "zKdp7eX7n4Kx",
        "outputId": "91853d2f-b3e4-414c-e978-ddfd1be061ea"
      },
      "execution_count": null,
      "outputs": [
        {
          "output_type": "stream",
          "name": "stdout",
          "text": [
            "False\n",
            "True\n",
            "False\n"
          ]
        }
      ]
    },
    {
      "cell_type": "markdown",
      "source": [
        "8,5 Расстояние больше ста?"
      ],
      "metadata": {
        "id": "nrSCTocipApD"
      }
    },
    {
      "cell_type": "code",
      "source": [
        "print(np.linalg.norm(a-b))\n",
        "print(np.linalg.norm(a-c))\n",
        "print(np.linalg.norm(b-c))"
      ],
      "metadata": {
        "colab": {
          "base_uri": "https://localhost:8080/"
        },
        "id": "kBjuLeH1o0pH",
        "outputId": "c4439123-b4b4-4aa7-d926-acd9d620907e"
      },
      "execution_count": null,
      "outputs": [
        {
          "output_type": "stream",
          "name": "stdout",
          "text": [
            "85.901105930017\n",
            "49.13247398615299\n",
            "120.6358155772986\n"
          ]
        }
      ]
    },
    {
      "cell_type": "markdown",
      "source": [
        "8,6 Перпендикулярность"
      ],
      "metadata": {
        "id": "buRY_0WbppVs"
      }
    },
    {
      "cell_type": "code",
      "source": [
        "print(np.dot(a, b) == 0)\n",
        "print(np.dot(a, c) == 0)\n",
        "print(np.dot(c, b) == 0)"
      ],
      "metadata": {
        "colab": {
          "base_uri": "https://localhost:8080/"
        },
        "id": "voJGwnoJp1TR",
        "outputId": "e633bf95-cddd-46ba-d92b-c9f88cca00bb"
      },
      "execution_count": null,
      "outputs": [
        {
          "output_type": "stream",
          "name": "stdout",
          "text": [
            "False\n",
            "False\n",
            "False\n"
          ]
        }
      ]
    },
    {
      "cell_type": "markdown",
      "source": [
        "Минимум, максимум, среднее"
      ],
      "metadata": {
        "id": "r7dgDCM6uF_k"
      }
    },
    {
      "cell_type": "code",
      "source": [
        "vec = np.array([2,7,18,28,18,1,8,4])\n",
        "vec.min()"
      ],
      "metadata": {
        "colab": {
          "base_uri": "https://localhost:8080/"
        },
        "id": "5mUAjHxTuLgq",
        "outputId": "000705b7-9a9c-4ed1-d09c-38a758c37174"
      },
      "execution_count": null,
      "outputs": [
        {
          "output_type": "execute_result",
          "data": {
            "text/plain": [
              "1"
            ]
          },
          "metadata": {},
          "execution_count": 26
        }
      ]
    },
    {
      "cell_type": "code",
      "source": [
        "np.max(vec)"
      ],
      "metadata": {
        "colab": {
          "base_uri": "https://localhost:8080/"
        },
        "id": "m6nWSgREuSI_",
        "outputId": "3ade9899-d4f4-4c87-e3b8-97508704842f"
      },
      "execution_count": null,
      "outputs": [
        {
          "output_type": "execute_result",
          "data": {
            "text/plain": [
              "28"
            ]
          },
          "metadata": {},
          "execution_count": 27
        }
      ]
    },
    {
      "cell_type": "code",
      "source": [
        "vec.mean()"
      ],
      "metadata": {
        "colab": {
          "base_uri": "https://localhost:8080/"
        },
        "id": "GKPll9neuXin",
        "outputId": "4052da67-a633-4bed-cf89-cd04edb9cfdd"
      },
      "execution_count": null,
      "outputs": [
        {
          "output_type": "execute_result",
          "data": {
            "text/plain": [
              "10.75"
            ]
          },
          "metadata": {},
          "execution_count": 28
        }
      ]
    },
    {
      "cell_type": "code",
      "source": [
        "np.median(vec)"
      ],
      "metadata": {
        "colab": {
          "base_uri": "https://localhost:8080/"
        },
        "id": "2HCTFH1ZyCZR",
        "outputId": "ef62ac62-4c7d-4769-db1c-3fda89a8282f"
      },
      "execution_count": null,
      "outputs": [
        {
          "output_type": "execute_result",
          "data": {
            "text/plain": [
              "7.5"
            ]
          },
          "metadata": {},
          "execution_count": 30
        }
      ]
    },
    {
      "cell_type": "code",
      "source": [
        "np.std(vec)"
      ],
      "metadata": {
        "colab": {
          "base_uri": "https://localhost:8080/"
        },
        "id": "2jpI23UwzSPg",
        "outputId": "0b5cb11c-e052-428b-cca9-8bac56777bbf"
      },
      "execution_count": null,
      "outputs": [
        {
          "output_type": "execute_result",
          "data": {
            "text/plain": [
              "8.954747344286158"
            ]
          },
          "metadata": {},
          "execution_count": 31
        }
      ]
    },
    {
      "cell_type": "markdown",
      "source": [
        "SEED генератор"
      ],
      "metadata": {
        "id": "1CWnW9A_zkVk"
      }
    },
    {
      "cell_type": "code",
      "source": [
        "np.random.seed(22)\n",
        "np.random.randint(10, size=(3,4))"
      ],
      "metadata": {
        "colab": {
          "base_uri": "https://localhost:8080/"
        },
        "id": "rQ9fcLVOzGmI",
        "outputId": "0698009d-79cf-4506-9298-4ecb5dd85b42"
      },
      "execution_count": null,
      "outputs": [
        {
          "output_type": "execute_result",
          "data": {
            "text/plain": [
              "array([[5, 4, 0, 4],\n",
              "       [6, 6, 4, 8],\n",
              "       [4, 2, 8, 7]])"
            ]
          },
          "metadata": {},
          "execution_count": 5
        }
      ]
    },
    {
      "cell_type": "code",
      "source": [
        "np.random.seed(100)\n",
        "print(np.random.randint(10, size=3))\n",
        "print(np.random.randint(10, size=3))\n",
        "print(np.random.randint(10, size=3))\n",
        "print(np.random.randint(10, size=3))"
      ],
      "metadata": {
        "colab": {
          "base_uri": "https://localhost:8080/"
        },
        "id": "AV9D_PwKzT_8",
        "outputId": "de1c5ef3-1407-4e8e-daf0-c5827e57c598"
      },
      "execution_count": null,
      "outputs": [
        {
          "output_type": "stream",
          "name": "stdout",
          "text": [
            "[8 8 3]\n",
            "[7 7 0]\n",
            "[4 2 5]\n",
            "[2 2 2]\n"
          ]
        }
      ]
    },
    {
      "cell_type": "markdown",
      "source": [
        "Задание 9.6 "
      ],
      "metadata": {
        "id": "6Ol6MlDy2kq-"
      }
    },
    {
      "cell_type": "code",
      "source": [
        "np.random.seed(2021)\n",
        "simple = np.random.rand()\n",
        "randoms = np.random.uniform(-150, 2021, size=120)\n",
        "table = np.random.randint(1, 101, size=(3, 2))\n",
        "even = np.arange(2, 17, 2)\n",
        "mix = even\n",
        "np.random.shuffle(mix)\n",
        "select = np.random.choice(even, size=3, replace=False)\n",
        "triplet = np.random.permutation(select)"
      ],
      "metadata": {
        "id": "AJPpOxTh0SRM"
      },
      "execution_count": null,
      "outputs": []
    },
    {
      "cell_type": "markdown",
      "source": [
        "Задание 10,6"
      ],
      "metadata": {
        "id": "aoDbt6vaa3w4"
      }
    },
    {
      "cell_type": "code",
      "source": [
        "def get_chess(a):\n",
        "    ar_chess = np.zeros((a, a))\n",
        "    ar_chess[::2, 1::2]=1.\n",
        "    ar_chess[1::2, ::2]=1.\n",
        "    return ar_chess\n",
        "get_chess(8)"
      ],
      "metadata": {
        "id": "6W8GjV9Ga8h9"
      },
      "execution_count": null,
      "outputs": []
    },
    {
      "cell_type": "markdown",
      "source": [
        "Задание 10,7"
      ],
      "metadata": {
        "id": "aeZbtNVtfeYn"
      }
    },
    {
      "cell_type": "code",
      "source": [
        "def shuffle_seed(array, x=np.random.randint(0, 2**32)):\n",
        "    np.random.seed(x)\n",
        "    a = np.random.permutation(array)\n",
        "    result = (a, x)\n",
        "    result = tuple(result)\n",
        "    return result\n"
      ],
      "metadata": {
        "id": "XgIDWryDfhT4"
      },
      "execution_count": null,
      "outputs": []
    },
    {
      "cell_type": "code",
      "source": [
        "array = [1, 2, 3, 4, 5]\n",
        "shuffle_seed(array)"
      ],
      "metadata": {
        "colab": {
          "base_uri": "https://localhost:8080/"
        },
        "id": "o5hHYZEL-WBG",
        "outputId": "869ccd9b-9850-482a-c9ee-18e1d2ed4805"
      },
      "execution_count": null,
      "outputs": [
        {
          "output_type": "execute_result",
          "data": {
            "text/plain": [
              "(array([5, 4, 3, 2, 1]), 4113768816)"
            ]
          },
          "metadata": {},
          "execution_count": 67
        }
      ]
    },
    {
      "cell_type": "code",
      "source": [
        "print(sorted(shuffle_seed([1, 2, 3, 4, 5, 10, 15])[0]) == sorted([1, 2, 3, 4, 5, 10, 15]))"
      ],
      "metadata": {
        "colab": {
          "base_uri": "https://localhost:8080/"
        },
        "id": "R_VsnhsQxv6e",
        "outputId": "464a790e-e90a-4bd2-a9ab-82ee9ac22969"
      },
      "execution_count": null,
      "outputs": [
        {
          "output_type": "stream",
          "name": "stdout",
          "text": [
            "True\n"
          ]
        }
      ]
    },
    {
      "cell_type": "code",
      "source": [
        "print(isinstance(shuffle_seed([1, 2, 3, 4, 5, 10, 15])[1], int))"
      ],
      "metadata": {
        "colab": {
          "base_uri": "https://localhost:8080/"
        },
        "id": "OAapRQ3H0d32",
        "outputId": "0604673f-18a6-413b-9fc7-0b63546550d7"
      },
      "execution_count": null,
      "outputs": [
        {
          "output_type": "stream",
          "name": "stdout",
          "text": [
            "True\n"
          ]
        }
      ]
    },
    {
      "cell_type": "markdown",
      "source": [
        "Задание 10,8"
      ],
      "metadata": {
        "id": "gz2CbVRhk8zh"
      }
    },
    {
      "cell_type": "code",
      "source": [
        "vec1 = np.array([1,2,3])\n",
        "vec2 = np.array([4,5,6])\n",
        "vec3 = np.array([7, 8, 9])"
      ],
      "metadata": {
        "id": "EquwVBO0k_x-"
      },
      "execution_count": null,
      "outputs": []
    },
    {
      "cell_type": "code",
      "source": [
        "print(np.linalg.norm(vec1-vec2))\n",
        "print(np.linalg.norm(vec1-vec3))\n",
        "print(np.linalg.norm(vec3-vec2))"
      ],
      "metadata": {
        "colab": {
          "base_uri": "https://localhost:8080/"
        },
        "id": "SUmwxneCm-WD",
        "outputId": "276d11f0-6da9-4e99-95b4-0c6183922c1a"
      },
      "execution_count": null,
      "outputs": [
        {
          "output_type": "stream",
          "name": "stdout",
          "text": [
            "5.196152422706632\n",
            "10.392304845413264\n",
            "5.196152422706632\n"
          ]
        }
      ]
    },
    {
      "cell_type": "code",
      "source": [
        "def min_max_dist(*vectors):\n",
        "    min_max = ([])\n",
        "    c = 0\n",
        "    for elem in vectors:\n",
        "        distance = np.linalg.norm(vectors[c-1] - vectors[c])\n",
        "        min_max.append(distance)\n",
        "        c += 1\n",
        "        if c == len(vectors):\n",
        "            break\n",
        "    result = (min(min_max), max(min_max))\n",
        "    return result\n",
        "\n",
        "min_max_dist(vec1, vec2, vec3)"
      ],
      "metadata": {
        "colab": {
          "base_uri": "https://localhost:8080/"
        },
        "id": "cVzS11a7l7WB",
        "outputId": "0ce4a351-6a4c-4cd9-da0b-60644ed43dbe"
      },
      "execution_count": null,
      "outputs": [
        {
          "output_type": "execute_result",
          "data": {
            "text/plain": [
              "(5.196152422706632, 10.392304845413264)"
            ]
          },
          "metadata": {},
          "execution_count": 55
        }
      ]
    },
    {
      "cell_type": "markdown",
      "source": [
        "Задание 10.9"
      ],
      "metadata": {
        "id": "PXqcMfsR7YuZ"
      }
    },
    {
      "cell_type": "code",
      "source": [
        "def any_normal(*vectors):\n",
        "    scal_ls = ([])\n",
        "    c = 0\n",
        "    for elem in vectors:\n",
        "        scal_prod = np.dot(vectors[c-1], vectors[c])\n",
        "        scal_ls.append(scal_prod)\n",
        "        c += 1\n",
        "        if c == len(vectors):\n",
        "            break\n",
        "    if 0 in scal_ls:\n",
        "        return True\n",
        "    else:\n",
        "        return False"
      ],
      "metadata": {
        "id": "0x1Avtju61xf"
      },
      "execution_count": null,
      "outputs": []
    },
    {
      "cell_type": "code",
      "source": [
        "vec1 = np.array([2, 1])\n",
        "vec2 = np.array([-1, 4])\n",
        "vec3 = np.array([3,4])\n",
        "print(any_normal(vec1, vec2, vec3))"
      ],
      "metadata": {
        "colab": {
          "base_uri": "https://localhost:8080/"
        },
        "id": "HnyCdcWM8kXK",
        "outputId": "b8360d1c-09e9-4dc4-f8f6-873702d466fb"
      },
      "execution_count": null,
      "outputs": [
        {
          "output_type": "stream",
          "name": "stdout",
          "text": [
            "False\n"
          ]
        }
      ]
    },
    {
      "cell_type": "markdown",
      "source": [
        "Задание 10.10"
      ],
      "metadata": {
        "id": "dr_LS8cv-_Fa"
      }
    },
    {
      "cell_type": "code",
      "source": [
        "def get_loto(num):\n",
        "    np.random.seed()\n",
        "    arr = np.random.choice(101, size=(num, 5, 5))\n",
        "    return arr"
      ],
      "metadata": {
        "id": "01lVbzdV_GGL"
      },
      "execution_count": null,
      "outputs": []
    },
    {
      "cell_type": "code",
      "source": [
        "get_loto(4)"
      ],
      "metadata": {
        "colab": {
          "base_uri": "https://localhost:8080/"
        },
        "id": "6aUVGlpOJFba",
        "outputId": "a7a0f6d7-d950-4913-acc2-d5aaf716af61"
      },
      "execution_count": null,
      "outputs": [
        {
          "output_type": "execute_result",
          "data": {
            "text/plain": [
              "array([[[85,  2, 43, 17, 55],\n",
              "        [15, 29, 62, 73, 46],\n",
              "        [54, 73, 91, 72, 69],\n",
              "        [88, 39, 10, 24,  6],\n",
              "        [13, 12, 95, 61, 12]],\n",
              "\n",
              "       [[20, 72, 53, 76, 46],\n",
              "        [76, 43, 34, 31, 92],\n",
              "        [47, 26, 96, 27, 88],\n",
              "        [88, 89, 50, 35, 80],\n",
              "        [46, 29, 10, 64, 49]],\n",
              "\n",
              "       [[25, 33, 17, 63, 67],\n",
              "        [31,  9, 16, 95, 63],\n",
              "        [91, 99,  2, 56, 13],\n",
              "        [35, 31,  0, 14, 91],\n",
              "        [82, 76, 85, 77, 86]],\n",
              "\n",
              "       [[98, 26, 97,  5, 52],\n",
              "        [49, 52,  2, 43, 14],\n",
              "        [59, 56, 81, 75, 84],\n",
              "        [88, 97, 98, 92, 74],\n",
              "        [14, 29, 82, 26, 43]]])"
            ]
          },
          "metadata": {},
          "execution_count": 111
        }
      ]
    },
    {
      "cell_type": "code",
      "source": [
        "simplelist = [19, 242, 14, 152, 142, 1000]\n",
        "np.mean(simplelist)"
      ],
      "metadata": {
        "colab": {
          "base_uri": "https://localhost:8080/"
        },
        "id": "oIwqRKwqsz5f",
        "outputId": "06889cea-14fd-4dce-edcb-c6b19a5abaa0"
      },
      "execution_count": null,
      "outputs": [
        {
          "output_type": "execute_result",
          "data": {
            "text/plain": [
              "261.5"
            ]
          },
          "metadata": {},
          "execution_count": 2
        }
      ]
    }
  ]
}