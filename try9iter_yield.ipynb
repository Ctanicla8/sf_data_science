{
 "cells": [
  {
   "cell_type": "code",
   "execution_count": null,
   "metadata": {},
   "outputs": [],
   "source": [
    "simple_string = 'adafjkaff'\n",
    "iter_string = iter(simple_string)\n",
    "print(next(iter_string))"
   ]
  },
  {
   "cell_type": "code",
   "execution_count": 1,
   "metadata": {},
   "outputs": [],
   "source": [
    "def deposit(money, interest):\n",
    "    interest = interest/100 + 1\n",
    "    while True:\n",
    "        money = round(interest*money, 2)\n",
    "        yield money"
   ]
  },
  {
   "cell_type": "code",
   "execution_count": null,
   "metadata": {},
   "outputs": [],
   "source": [
    "bank = deposit(1000, 5)\n",
    "print(next(bank))\n",
    "print(next(bank))\n",
    "print(next(bank))"
   ]
  },
  {
   "attachments": {},
   "cell_type": "markdown",
   "metadata": {},
   "source": [
    "# Объявляем функцию для расчёта суммы вклада\n",
    "# Аргумент years принимает число лет, на которое рассчитан вклад"
   ]
  },
  {
   "cell_type": "code",
   "execution_count": 1,
   "metadata": {},
   "outputs": [],
   "source": [
    "def deposit_years(money, interest, years):\n",
    "    interest = interest/100 + 1\n",
    "    for year in range(years):\n",
    "        money = round(interest * money, 2)\n",
    "        yield money"
   ]
  },
  {
   "cell_type": "code",
   "execution_count": null,
   "metadata": {},
   "outputs": [],
   "source": [
    "bank2 = deposit_years(1500, 3, 2)\n",
    "print(next(bank2))\n",
    "print(next(bank2))\n",
    "print(next(bank2))"
   ]
  }
 ],
 "metadata": {
  "kernelspec": {
   "display_name": "Python 3",
   "language": "python",
   "name": "python3"
  },
  "language_info": {
   "codemirror_mode": {
    "name": "ipython",
    "version": 3
   },
   "file_extension": ".py",
   "mimetype": "text/x-python",
   "name": "python",
   "nbconvert_exporter": "python",
   "pygments_lexer": "ipython3",
   "version": "3.10.6 (main, Nov 14 2022, 16:10:14) [GCC 11.3.0]"
  },
  "orig_nbformat": 4,
  "vscode": {
   "interpreter": {
    "hash": "916dbcbb3f70747c44a77c7bcd40155683ae19c65e1c03b4aa3499c5328201f1"
   }
  }
 },
 "nbformat": 4,
 "nbformat_minor": 2
}
